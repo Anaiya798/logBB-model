{
  "cells": [
    {
      "cell_type": "code",
      "execution_count": 4,
      "metadata": {
        "colab": {
          "base_uri": "https://localhost:8080/"
        },
        "id": "uQaqCf3i6e9_",
        "outputId": "72aff8ba-9fa6-45e1-e089-f88542a28bb1"
      },
      "outputs": [
        {
          "output_type": "stream",
          "name": "stdout",
          "text": [
            "Requirement already satisfied: xgboost in /usr/local/lib/python3.10/dist-packages (2.0.3)\n",
            "Requirement already satisfied: numpy in /usr/local/lib/python3.10/dist-packages (from xgboost) (1.23.5)\n",
            "Requirement already satisfied: scipy in /usr/local/lib/python3.10/dist-packages (from xgboost) (1.11.4)\n"
          ]
        }
      ],
      "source": [
        "!pip install xgboost"
      ],
      "id": "uQaqCf3i6e9_"
    },
    {
      "cell_type": "code",
      "execution_count": 5,
      "metadata": {
        "id": "07e9ecb9"
      },
      "outputs": [],
      "source": [
        "import numpy as np\n",
        "import pandas as pd\n",
        "import seaborn as sns\n",
        "import matplotlib.pyplot as plt\n",
        "from matplotlib import rcParams\n",
        "\n",
        "# from cats2d.rd_cats2d import CATS2D\n",
        "# from rdkit.Avalon import pyAvalonTools\n",
        "# from rdkit import Chem\n",
        "# from rdkit.Chem import Crippen,Descriptors, MACCSkeys, GraphDescriptors, Lipinski, QED\n",
        "from statistics import mean\n",
        "from tqdm import tqdm"
      ],
      "id": "07e9ecb9"
    },
    {
      "cell_type": "code",
      "execution_count": 6,
      "metadata": {
        "id": "a1f5638a"
      },
      "outputs": [],
      "source": [
        "from xgboost import XGBRegressor, XGBClassifier\n",
        "import sklearn\n",
        "from sklearn.feature_selection import SelectKBest, mutual_info_regression\n",
        "from sklearn.linear_model import LinearRegression\n",
        "from sklearn.ensemble import RandomForestRegressor, GradientBoostingRegressor, ExtraTreesRegressor\n",
        "from sklearn.preprocessing import StandardScaler, MinMaxScaler\n",
        "\n",
        "from sklearn.model_selection import train_test_split, KFold, cross_validate, GridSearchCV\n",
        "from sklearn.metrics import make_scorer, r2_score, mean_absolute_error, mean_squared_error, roc_auc_score, f1_score"
      ],
      "id": "a1f5638a"
    },
    {
      "cell_type": "code",
      "execution_count": 7,
      "metadata": {
        "colab": {
          "base_uri": "https://localhost:8080/",
          "height": 255
        },
        "id": "O0YjHhip6FMM",
        "outputId": "a12cea0e-1b14-4c88-f2d4-25d1de0a8304"
      },
      "outputs": [
        {
          "output_type": "execute_result",
          "data": {
            "text/plain": [
              "   Activity      MW  AlogP     PSA  #ROTB  #ALERTS  MlogP  #HeavyAtoms  #NHOH  \\\n",
              "0         0  398.40   3.70  141.31    6.0      1.0   3.70         28.0    3.0   \n",
              "1         0  520.48  -1.13  206.30    9.0      4.0  -1.13         36.0    4.0   \n",
              "2         0  305.50   3.20   33.12    0.0      1.0   3.20         13.0    1.0   \n",
              "3         0  342.27   2.11   73.10    6.0      5.0   2.11         19.0    2.0   \n",
              "4         0  461.47  -1.24  149.15    3.0      1.0  -1.24         33.0    5.0   \n",
              "\n",
              "   #AromaticHeterocycles  ...  A_502  A_503  A_504  A_505  A_506  A_507  \\\n",
              "0                    1.0  ...    0.0    0.0    0.0    0.0    0.0    0.0   \n",
              "1                    1.0  ...    1.0    1.0    1.0    1.0    0.0    0.0   \n",
              "2                    1.0  ...    1.0    1.0    0.0    0.0    1.0    0.0   \n",
              "3                    1.0  ...    0.0    0.0    0.0    0.0    1.0    0.0   \n",
              "4                    0.0  ...    0.0    1.0    1.0    1.0    1.0    0.0   \n",
              "\n",
              "   A_508  A_509  A_510  A_511  \n",
              "0    0.0    0.0    0.0    0.0  \n",
              "1    1.0    0.0    1.0    1.0  \n",
              "2    0.0    0.0    0.0    0.0  \n",
              "3    0.0    0.0    0.0    0.0  \n",
              "4    0.0    0.0    0.0    0.0  \n",
              "\n",
              "[5 rows x 395 columns]"
            ],
            "text/html": [
              "\n",
              "  <div id=\"df-05d93945-8d85-4655-9242-525a1144f60b\" class=\"colab-df-container\">\n",
              "    <div>\n",
              "<style scoped>\n",
              "    .dataframe tbody tr th:only-of-type {\n",
              "        vertical-align: middle;\n",
              "    }\n",
              "\n",
              "    .dataframe tbody tr th {\n",
              "        vertical-align: top;\n",
              "    }\n",
              "\n",
              "    .dataframe thead th {\n",
              "        text-align: right;\n",
              "    }\n",
              "</style>\n",
              "<table border=\"1\" class=\"dataframe\">\n",
              "  <thead>\n",
              "    <tr style=\"text-align: right;\">\n",
              "      <th></th>\n",
              "      <th>Activity</th>\n",
              "      <th>MW</th>\n",
              "      <th>AlogP</th>\n",
              "      <th>PSA</th>\n",
              "      <th>#ROTB</th>\n",
              "      <th>#ALERTS</th>\n",
              "      <th>MlogP</th>\n",
              "      <th>#HeavyAtoms</th>\n",
              "      <th>#NHOH</th>\n",
              "      <th>#AromaticHeterocycles</th>\n",
              "      <th>...</th>\n",
              "      <th>A_502</th>\n",
              "      <th>A_503</th>\n",
              "      <th>A_504</th>\n",
              "      <th>A_505</th>\n",
              "      <th>A_506</th>\n",
              "      <th>A_507</th>\n",
              "      <th>A_508</th>\n",
              "      <th>A_509</th>\n",
              "      <th>A_510</th>\n",
              "      <th>A_511</th>\n",
              "    </tr>\n",
              "  </thead>\n",
              "  <tbody>\n",
              "    <tr>\n",
              "      <th>0</th>\n",
              "      <td>0</td>\n",
              "      <td>398.40</td>\n",
              "      <td>3.70</td>\n",
              "      <td>141.31</td>\n",
              "      <td>6.0</td>\n",
              "      <td>1.0</td>\n",
              "      <td>3.70</td>\n",
              "      <td>28.0</td>\n",
              "      <td>3.0</td>\n",
              "      <td>1.0</td>\n",
              "      <td>...</td>\n",
              "      <td>0.0</td>\n",
              "      <td>0.0</td>\n",
              "      <td>0.0</td>\n",
              "      <td>0.0</td>\n",
              "      <td>0.0</td>\n",
              "      <td>0.0</td>\n",
              "      <td>0.0</td>\n",
              "      <td>0.0</td>\n",
              "      <td>0.0</td>\n",
              "      <td>0.0</td>\n",
              "    </tr>\n",
              "    <tr>\n",
              "      <th>1</th>\n",
              "      <td>0</td>\n",
              "      <td>520.48</td>\n",
              "      <td>-1.13</td>\n",
              "      <td>206.30</td>\n",
              "      <td>9.0</td>\n",
              "      <td>4.0</td>\n",
              "      <td>-1.13</td>\n",
              "      <td>36.0</td>\n",
              "      <td>4.0</td>\n",
              "      <td>1.0</td>\n",
              "      <td>...</td>\n",
              "      <td>1.0</td>\n",
              "      <td>1.0</td>\n",
              "      <td>1.0</td>\n",
              "      <td>1.0</td>\n",
              "      <td>0.0</td>\n",
              "      <td>0.0</td>\n",
              "      <td>1.0</td>\n",
              "      <td>0.0</td>\n",
              "      <td>1.0</td>\n",
              "      <td>1.0</td>\n",
              "    </tr>\n",
              "    <tr>\n",
              "      <th>2</th>\n",
              "      <td>0</td>\n",
              "      <td>305.50</td>\n",
              "      <td>3.20</td>\n",
              "      <td>33.12</td>\n",
              "      <td>0.0</td>\n",
              "      <td>1.0</td>\n",
              "      <td>3.20</td>\n",
              "      <td>13.0</td>\n",
              "      <td>1.0</td>\n",
              "      <td>1.0</td>\n",
              "      <td>...</td>\n",
              "      <td>1.0</td>\n",
              "      <td>1.0</td>\n",
              "      <td>0.0</td>\n",
              "      <td>0.0</td>\n",
              "      <td>1.0</td>\n",
              "      <td>0.0</td>\n",
              "      <td>0.0</td>\n",
              "      <td>0.0</td>\n",
              "      <td>0.0</td>\n",
              "      <td>0.0</td>\n",
              "    </tr>\n",
              "    <tr>\n",
              "      <th>3</th>\n",
              "      <td>0</td>\n",
              "      <td>342.27</td>\n",
              "      <td>2.11</td>\n",
              "      <td>73.10</td>\n",
              "      <td>6.0</td>\n",
              "      <td>5.0</td>\n",
              "      <td>2.11</td>\n",
              "      <td>19.0</td>\n",
              "      <td>2.0</td>\n",
              "      <td>1.0</td>\n",
              "      <td>...</td>\n",
              "      <td>0.0</td>\n",
              "      <td>0.0</td>\n",
              "      <td>0.0</td>\n",
              "      <td>0.0</td>\n",
              "      <td>1.0</td>\n",
              "      <td>0.0</td>\n",
              "      <td>0.0</td>\n",
              "      <td>0.0</td>\n",
              "      <td>0.0</td>\n",
              "      <td>0.0</td>\n",
              "    </tr>\n",
              "    <tr>\n",
              "      <th>4</th>\n",
              "      <td>0</td>\n",
              "      <td>461.47</td>\n",
              "      <td>-1.24</td>\n",
              "      <td>149.15</td>\n",
              "      <td>3.0</td>\n",
              "      <td>1.0</td>\n",
              "      <td>-1.24</td>\n",
              "      <td>33.0</td>\n",
              "      <td>5.0</td>\n",
              "      <td>0.0</td>\n",
              "      <td>...</td>\n",
              "      <td>0.0</td>\n",
              "      <td>1.0</td>\n",
              "      <td>1.0</td>\n",
              "      <td>1.0</td>\n",
              "      <td>1.0</td>\n",
              "      <td>0.0</td>\n",
              "      <td>0.0</td>\n",
              "      <td>0.0</td>\n",
              "      <td>0.0</td>\n",
              "      <td>0.0</td>\n",
              "    </tr>\n",
              "  </tbody>\n",
              "</table>\n",
              "<p>5 rows × 395 columns</p>\n",
              "</div>\n",
              "    <div class=\"colab-df-buttons\">\n",
              "\n",
              "  <div class=\"colab-df-container\">\n",
              "    <button class=\"colab-df-convert\" onclick=\"convertToInteractive('df-05d93945-8d85-4655-9242-525a1144f60b')\"\n",
              "            title=\"Convert this dataframe to an interactive table.\"\n",
              "            style=\"display:none;\">\n",
              "\n",
              "  <svg xmlns=\"http://www.w3.org/2000/svg\" height=\"24px\" viewBox=\"0 -960 960 960\">\n",
              "    <path d=\"M120-120v-720h720v720H120Zm60-500h600v-160H180v160Zm220 220h160v-160H400v160Zm0 220h160v-160H400v160ZM180-400h160v-160H180v160Zm440 0h160v-160H620v160ZM180-180h160v-160H180v160Zm440 0h160v-160H620v160Z\"/>\n",
              "  </svg>\n",
              "    </button>\n",
              "\n",
              "  <style>\n",
              "    .colab-df-container {\n",
              "      display:flex;\n",
              "      gap: 12px;\n",
              "    }\n",
              "\n",
              "    .colab-df-convert {\n",
              "      background-color: #E8F0FE;\n",
              "      border: none;\n",
              "      border-radius: 50%;\n",
              "      cursor: pointer;\n",
              "      display: none;\n",
              "      fill: #1967D2;\n",
              "      height: 32px;\n",
              "      padding: 0 0 0 0;\n",
              "      width: 32px;\n",
              "    }\n",
              "\n",
              "    .colab-df-convert:hover {\n",
              "      background-color: #E2EBFA;\n",
              "      box-shadow: 0px 1px 2px rgba(60, 64, 67, 0.3), 0px 1px 3px 1px rgba(60, 64, 67, 0.15);\n",
              "      fill: #174EA6;\n",
              "    }\n",
              "\n",
              "    .colab-df-buttons div {\n",
              "      margin-bottom: 4px;\n",
              "    }\n",
              "\n",
              "    [theme=dark] .colab-df-convert {\n",
              "      background-color: #3B4455;\n",
              "      fill: #D2E3FC;\n",
              "    }\n",
              "\n",
              "    [theme=dark] .colab-df-convert:hover {\n",
              "      background-color: #434B5C;\n",
              "      box-shadow: 0px 1px 3px 1px rgba(0, 0, 0, 0.15);\n",
              "      filter: drop-shadow(0px 1px 2px rgba(0, 0, 0, 0.3));\n",
              "      fill: #FFFFFF;\n",
              "    }\n",
              "  </style>\n",
              "\n",
              "    <script>\n",
              "      const buttonEl =\n",
              "        document.querySelector('#df-05d93945-8d85-4655-9242-525a1144f60b button.colab-df-convert');\n",
              "      buttonEl.style.display =\n",
              "        google.colab.kernel.accessAllowed ? 'block' : 'none';\n",
              "\n",
              "      async function convertToInteractive(key) {\n",
              "        const element = document.querySelector('#df-05d93945-8d85-4655-9242-525a1144f60b');\n",
              "        const dataTable =\n",
              "          await google.colab.kernel.invokeFunction('convertToInteractive',\n",
              "                                                    [key], {});\n",
              "        if (!dataTable) return;\n",
              "\n",
              "        const docLinkHtml = 'Like what you see? Visit the ' +\n",
              "          '<a target=\"_blank\" href=https://colab.research.google.com/notebooks/data_table.ipynb>data table notebook</a>'\n",
              "          + ' to learn more about interactive tables.';\n",
              "        element.innerHTML = '';\n",
              "        dataTable['output_type'] = 'display_data';\n",
              "        await google.colab.output.renderOutput(dataTable, element);\n",
              "        const docLink = document.createElement('div');\n",
              "        docLink.innerHTML = docLinkHtml;\n",
              "        element.appendChild(docLink);\n",
              "      }\n",
              "    </script>\n",
              "  </div>\n",
              "\n",
              "\n",
              "<div id=\"df-eebedeca-8ab3-4936-9b39-da59c5de7b96\">\n",
              "  <button class=\"colab-df-quickchart\" onclick=\"quickchart('df-eebedeca-8ab3-4936-9b39-da59c5de7b96')\"\n",
              "            title=\"Suggest charts\"\n",
              "            style=\"display:none;\">\n",
              "\n",
              "<svg xmlns=\"http://www.w3.org/2000/svg\" height=\"24px\"viewBox=\"0 0 24 24\"\n",
              "     width=\"24px\">\n",
              "    <g>\n",
              "        <path d=\"M19 3H5c-1.1 0-2 .9-2 2v14c0 1.1.9 2 2 2h14c1.1 0 2-.9 2-2V5c0-1.1-.9-2-2-2zM9 17H7v-7h2v7zm4 0h-2V7h2v10zm4 0h-2v-4h2v4z\"/>\n",
              "    </g>\n",
              "</svg>\n",
              "  </button>\n",
              "\n",
              "<style>\n",
              "  .colab-df-quickchart {\n",
              "      --bg-color: #E8F0FE;\n",
              "      --fill-color: #1967D2;\n",
              "      --hover-bg-color: #E2EBFA;\n",
              "      --hover-fill-color: #174EA6;\n",
              "      --disabled-fill-color: #AAA;\n",
              "      --disabled-bg-color: #DDD;\n",
              "  }\n",
              "\n",
              "  [theme=dark] .colab-df-quickchart {\n",
              "      --bg-color: #3B4455;\n",
              "      --fill-color: #D2E3FC;\n",
              "      --hover-bg-color: #434B5C;\n",
              "      --hover-fill-color: #FFFFFF;\n",
              "      --disabled-bg-color: #3B4455;\n",
              "      --disabled-fill-color: #666;\n",
              "  }\n",
              "\n",
              "  .colab-df-quickchart {\n",
              "    background-color: var(--bg-color);\n",
              "    border: none;\n",
              "    border-radius: 50%;\n",
              "    cursor: pointer;\n",
              "    display: none;\n",
              "    fill: var(--fill-color);\n",
              "    height: 32px;\n",
              "    padding: 0;\n",
              "    width: 32px;\n",
              "  }\n",
              "\n",
              "  .colab-df-quickchart:hover {\n",
              "    background-color: var(--hover-bg-color);\n",
              "    box-shadow: 0 1px 2px rgba(60, 64, 67, 0.3), 0 1px 3px 1px rgba(60, 64, 67, 0.15);\n",
              "    fill: var(--button-hover-fill-color);\n",
              "  }\n",
              "\n",
              "  .colab-df-quickchart-complete:disabled,\n",
              "  .colab-df-quickchart-complete:disabled:hover {\n",
              "    background-color: var(--disabled-bg-color);\n",
              "    fill: var(--disabled-fill-color);\n",
              "    box-shadow: none;\n",
              "  }\n",
              "\n",
              "  .colab-df-spinner {\n",
              "    border: 2px solid var(--fill-color);\n",
              "    border-color: transparent;\n",
              "    border-bottom-color: var(--fill-color);\n",
              "    animation:\n",
              "      spin 1s steps(1) infinite;\n",
              "  }\n",
              "\n",
              "  @keyframes spin {\n",
              "    0% {\n",
              "      border-color: transparent;\n",
              "      border-bottom-color: var(--fill-color);\n",
              "      border-left-color: var(--fill-color);\n",
              "    }\n",
              "    20% {\n",
              "      border-color: transparent;\n",
              "      border-left-color: var(--fill-color);\n",
              "      border-top-color: var(--fill-color);\n",
              "    }\n",
              "    30% {\n",
              "      border-color: transparent;\n",
              "      border-left-color: var(--fill-color);\n",
              "      border-top-color: var(--fill-color);\n",
              "      border-right-color: var(--fill-color);\n",
              "    }\n",
              "    40% {\n",
              "      border-color: transparent;\n",
              "      border-right-color: var(--fill-color);\n",
              "      border-top-color: var(--fill-color);\n",
              "    }\n",
              "    60% {\n",
              "      border-color: transparent;\n",
              "      border-right-color: var(--fill-color);\n",
              "    }\n",
              "    80% {\n",
              "      border-color: transparent;\n",
              "      border-right-color: var(--fill-color);\n",
              "      border-bottom-color: var(--fill-color);\n",
              "    }\n",
              "    90% {\n",
              "      border-color: transparent;\n",
              "      border-bottom-color: var(--fill-color);\n",
              "    }\n",
              "  }\n",
              "</style>\n",
              "\n",
              "  <script>\n",
              "    async function quickchart(key) {\n",
              "      const quickchartButtonEl =\n",
              "        document.querySelector('#' + key + ' button');\n",
              "      quickchartButtonEl.disabled = true;  // To prevent multiple clicks.\n",
              "      quickchartButtonEl.classList.add('colab-df-spinner');\n",
              "      try {\n",
              "        const charts = await google.colab.kernel.invokeFunction(\n",
              "            'suggestCharts', [key], {});\n",
              "      } catch (error) {\n",
              "        console.error('Error during call to suggestCharts:', error);\n",
              "      }\n",
              "      quickchartButtonEl.classList.remove('colab-df-spinner');\n",
              "      quickchartButtonEl.classList.add('colab-df-quickchart-complete');\n",
              "    }\n",
              "    (() => {\n",
              "      let quickchartButtonEl =\n",
              "        document.querySelector('#df-eebedeca-8ab3-4936-9b39-da59c5de7b96 button');\n",
              "      quickchartButtonEl.style.display =\n",
              "        google.colab.kernel.accessAllowed ? 'block' : 'none';\n",
              "    })();\n",
              "  </script>\n",
              "</div>\n",
              "    </div>\n",
              "  </div>\n"
            ]
          },
          "metadata": {},
          "execution_count": 7
        }
      ],
      "source": [
        "df = pd.read_csv('avalon_refined_classification_395.csv')\n",
        "df.head()"
      ],
      "id": "O0YjHhip6FMM"
    },
    {
      "cell_type": "code",
      "execution_count": 7,
      "metadata": {
        "id": "ki6eLBVN1UXc"
      },
      "outputs": [],
      "source": [],
      "id": "ki6eLBVN1UXc"
    },
    {
      "cell_type": "markdown",
      "metadata": {
        "id": "e7d47768"
      },
      "source": [
        "### Обучение модели"
      ],
      "id": "e7d47768"
    },
    {
      "cell_type": "code",
      "execution_count": 8,
      "metadata": {
        "id": "9d42e8d0"
      },
      "outputs": [],
      "source": [
        "split = KFold(n_splits=5, random_state=41, shuffle=True)\n",
        "scores= {\n",
        "         \"F1\":  make_scorer(f1_score),\n",
        "         \"AUC\": make_scorer(roc_auc_score, needs_threshold=True)\n",
        "         }"
      ],
      "id": "9d42e8d0"
    },
    {
      "cell_type": "markdown",
      "metadata": {
        "id": "PZVtXtYdYNmc"
      },
      "source": [],
      "id": "PZVtXtYdYNmc"
    },
    {
      "cell_type": "code",
      "execution_count": 9,
      "metadata": {
        "id": "2e2231eb"
      },
      "outputs": [],
      "source": [
        "X = df.iloc[:, 1:].values\n",
        "y = df.iloc[:, 0].values"
      ],
      "id": "2e2231eb"
    },
    {
      "cell_type": "code",
      "execution_count": 10,
      "metadata": {
        "id": "afe7a274"
      },
      "outputs": [],
      "source": [
        "X_train, X_test, y_train, y_test = X, X, y, y"
      ],
      "id": "afe7a274"
    },
    {
      "cell_type": "code",
      "execution_count": 11,
      "metadata": {
        "id": "28ab77eb"
      },
      "outputs": [],
      "source": [
        "scaler = StandardScaler().fit(X_train)\n",
        "X_train = scaler.transform(X_train)\n",
        "X_test = scaler.transform(X_test)"
      ],
      "id": "28ab77eb"
    },
    {
      "cell_type": "code",
      "execution_count": 12,
      "metadata": {
        "colab": {
          "base_uri": "https://localhost:8080/"
        },
        "id": "5ukGzA-57_3G",
        "outputId": "a7af2970-b59d-4389-f2be-951225aa9754"
      },
      "outputs": [
        {
          "output_type": "stream",
          "name": "stdout",
          "text": [
            "Mon Jan 15 19:43:01 2024       \n",
            "+---------------------------------------------------------------------------------------+\n",
            "| NVIDIA-SMI 535.104.05             Driver Version: 535.104.05   CUDA Version: 12.2     |\n",
            "|-----------------------------------------+----------------------+----------------------+\n",
            "| GPU  Name                 Persistence-M | Bus-Id        Disp.A | Volatile Uncorr. ECC |\n",
            "| Fan  Temp   Perf          Pwr:Usage/Cap |         Memory-Usage | GPU-Util  Compute M. |\n",
            "|                                         |                      |               MIG M. |\n",
            "|=========================================+======================+======================|\n",
            "|   0  Tesla T4                       Off | 00000000:00:04.0 Off |                    0 |\n",
            "| N/A   39C    P8               9W /  70W |      0MiB / 15360MiB |      0%      Default |\n",
            "|                                         |                      |                  N/A |\n",
            "+-----------------------------------------+----------------------+----------------------+\n",
            "                                                                                         \n",
            "+---------------------------------------------------------------------------------------+\n",
            "| Processes:                                                                            |\n",
            "|  GPU   GI   CI        PID   Type   Process name                            GPU Memory |\n",
            "|        ID   ID                                                             Usage      |\n",
            "|=======================================================================================|\n",
            "|  No running processes found                                                           |\n",
            "+---------------------------------------------------------------------------------------+\n"
          ]
        }
      ],
      "source": [
        "!nvidia-smi"
      ],
      "id": "5ukGzA-57_3G"
    },
    {
      "cell_type": "code",
      "execution_count": 13,
      "metadata": {
        "id": "c82a410d"
      },
      "outputs": [],
      "source": [
        "# model parameters were obtained from GridSearch\n",
        "model = XGBClassifier(random_state=42, learning_rate=0.001, max_depth=8, n_estimators=1000, subsample=0.3, tree_method='gpu_hist', gpu_id=0)"
      ],
      "id": "c82a410d"
    },
    {
      "cell_type": "code",
      "execution_count": 14,
      "metadata": {
        "id": "f3873ada"
      },
      "outputs": [],
      "source": [
        "parameters = {\n",
        "    'max_depth': range(6, 12, 2),\n",
        "    'learning_rate': [0.1, 0.01, 0.001],\n",
        "    'subsample': [1, 0.75, 0.5, 0.3, 0.1],\n",
        "    'n_estimators': [1000, 1500, 2000],\n",
        "}"
      ],
      "id": "f3873ada"
    },
    {
      "cell_type": "markdown",
      "source": [],
      "metadata": {
        "id": "zSJ8zQrpgnmS"
      },
      "id": "zSJ8zQrpgnmS"
    },
    {
      "cell_type": "code",
      "execution_count": 15,
      "metadata": {
        "id": "48835c22"
      },
      "outputs": [],
      "source": [
        "# roc_auc_scorer = sklearn.metrics.make_scorer(roc_auc_score, greater_is_better=True,\n",
        "#                              needs_threshold=True)"
      ],
      "id": "48835c22"
    },
    {
      "cell_type": "code",
      "execution_count": 16,
      "metadata": {
        "id": "9fd086fb"
      },
      "outputs": [],
      "source": [
        "# grid_search = GridSearchCV(\n",
        "#     estimator=MLR_model,\n",
        "#     param_grid=parameters,\n",
        "#     # scoring='neg_mean_squared_error',\n",
        "#     scoring=roc_auc_scorer,\n",
        "#     verbose=3)\n"
      ],
      "id": "9fd086fb"
    },
    {
      "cell_type": "code",
      "execution_count": 17,
      "metadata": {
        "id": "f29dd818"
      },
      "outputs": [],
      "source": [
        "# grid_search.fit(X, y)"
      ],
      "id": "f29dd818"
    },
    {
      "cell_type": "code",
      "execution_count": 18,
      "metadata": {
        "id": "-i7iTZGxGK1Z"
      },
      "outputs": [],
      "source": [
        "# grid_search.best_params_"
      ],
      "id": "-i7iTZGxGK1Z"
    },
    {
      "cell_type": "code",
      "execution_count": 19,
      "metadata": {
        "id": "0gs_MOn1GVIp"
      },
      "outputs": [],
      "source": [
        "# grid_search.best_score_"
      ],
      "id": "0gs_MOn1GVIp"
    },
    {
      "cell_type": "code",
      "source": [
        "cv_scores = cross_validate(model, X_train, y_train, scoring=scores, cv=split)\n",
        "print(f\"On cross-validation:\")\n",
        "print(f\"Mean ROC_AUC score is {cv_scores['test_AUC'].mean().round(3)} ± {cv_scores['test_AUC'].std().round(3)}\")\n",
        "print(f\"Mean F1 score is {cv_scores['test_F1'].mean().round(3)} ± {cv_scores['test_F1'].std().round(3)}\")"
      ],
      "metadata": {
        "id": "y-CBvxhlp5s4"
      },
      "id": "y-CBvxhlp5s4",
      "execution_count": null,
      "outputs": []
    },
    {
      "cell_type": "code",
      "source": [
        "model.fit(X_train, y_train)\n",
        "\n",
        "y_pred = model.predict(X_test)\n",
        "print(f\"F1: {f1_score(y_test, y_pred).round(3)}\")\n",
        "\n",
        "y_pred = model.predict_proba(X_test)\n",
        "print(f\"ROC_AUC: {roc_auc_score(y_test, y_pred[:, 1]).round(3)}\")"
      ],
      "metadata": {
        "id": "5YNNgBl9qBpY"
      },
      "id": "5YNNgBl9qBpY",
      "execution_count": null,
      "outputs": []
    }
  ],
  "metadata": {
    "colab": {
      "provenance": [],
      "gpuType": "T4"
    },
    "kernelspec": {
      "display_name": "Python 3",
      "name": "python3"
    },
    "language_info": {
      "codemirror_mode": {
        "name": "ipython",
        "version": 3
      },
      "file_extension": ".py",
      "mimetype": "text/x-python",
      "name": "python",
      "nbconvert_exporter": "python",
      "pygments_lexer": "ipython3",
      "version": "3.10.4"
    },
    "accelerator": "GPU"
  },
  "nbformat": 4,
  "nbformat_minor": 5
}