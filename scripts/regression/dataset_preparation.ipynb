{
 "cells": [
  {
   "cell_type": "code",
   "execution_count": 327,
   "id": "a0489af8",
   "metadata": {},
   "outputs": [],
   "source": [
    "import numpy as np\n",
    "import pandas as pd\n",
    "import seaborn as sns\n",
    "import matplotlib.pyplot as plt\n",
    "from matplotlib import rcParams\n",
    "from rdkit import Chem\n",
    "from rdkit.Chem import Descriptors\n",
    "from statistics import mean"
   ]
  },
  {
   "cell_type": "markdown",
   "id": "ef47025c",
   "metadata": {},
   "source": [
    "### Dataset 1 (https://github.com/theochem/B3DB)"
   ]
  },
  {
   "cell_type": "code",
   "execution_count": 328,
   "id": "862c3b0c",
   "metadata": {},
   "outputs": [
    {
     "data": {
      "text/html": [
       "<div>\n",
       "<style scoped>\n",
       "    .dataframe tbody tr th:only-of-type {\n",
       "        vertical-align: middle;\n",
       "    }\n",
       "\n",
       "    .dataframe tbody tr th {\n",
       "        vertical-align: top;\n",
       "    }\n",
       "\n",
       "    .dataframe thead th {\n",
       "        text-align: right;\n",
       "    }\n",
       "</style>\n",
       "<table border=\"1\" class=\"dataframe\">\n",
       "  <thead>\n",
       "    <tr style=\"text-align: right;\">\n",
       "      <th></th>\n",
       "      <th>NO.</th>\n",
       "      <th>compound_name</th>\n",
       "      <th>IUPAC_name</th>\n",
       "      <th>SMILES</th>\n",
       "      <th>CID</th>\n",
       "      <th>logBB</th>\n",
       "      <th>BBB+/BBB-</th>\n",
       "      <th>Inchi</th>\n",
       "      <th>threshold</th>\n",
       "      <th>reference</th>\n",
       "      <th>group</th>\n",
       "      <th>comments</th>\n",
       "    </tr>\n",
       "  </thead>\n",
       "  <tbody>\n",
       "    <tr>\n",
       "      <th>0</th>\n",
       "      <td>1</td>\n",
       "      <td>sulphasalazine</td>\n",
       "      <td>2-hydroxy-5-[[4-(pyridin-2-ylsulfamoyl)phenyl]...</td>\n",
       "      <td>O=C(O)c1cc(N=Nc2ccc(S(=O)(=O)Nc3ccccn3)cc2)ccc1O</td>\n",
       "      <td>5339.0</td>\n",
       "      <td>-2.69</td>\n",
       "      <td>BBB-</td>\n",
       "      <td>InChI=1S/C18H14N4O5S/c23-16-9-6-13(11-15(16)18...</td>\n",
       "      <td>NaN</td>\n",
       "      <td>R2|R2|R25|R46|</td>\n",
       "      <td>A</td>\n",
       "      <td>NaN</td>\n",
       "    </tr>\n",
       "    <tr>\n",
       "      <th>1</th>\n",
       "      <td>2</td>\n",
       "      <td>moxalactam</td>\n",
       "      <td>7-[[2-carboxy-2-(4-hydroxyphenyl)acetyl]amino]...</td>\n",
       "      <td>COC1(NC(=O)C(C(=O)O)c2ccc(O)cc2)C(=O)N2C(C(=O)...</td>\n",
       "      <td>3889.0</td>\n",
       "      <td>-2.52</td>\n",
       "      <td>BBB-</td>\n",
       "      <td>InChI=1S/C20H20N6O9S/c1-25-19(22-23-24-25)36-8...</td>\n",
       "      <td>NaN</td>\n",
       "      <td>R25|</td>\n",
       "      <td>A</td>\n",
       "      <td>NaN</td>\n",
       "    </tr>\n",
       "    <tr>\n",
       "      <th>2</th>\n",
       "      <td>3</td>\n",
       "      <td>clioquinol</td>\n",
       "      <td>5-chloro-7-iodoquinolin-8-ol</td>\n",
       "      <td>Oc1c(I)cc(Cl)c2cccnc12</td>\n",
       "      <td>2788.0</td>\n",
       "      <td>-2.40</td>\n",
       "      <td>BBB-</td>\n",
       "      <td>InChI=1S/C9H5ClINO/c10-6-4-7(11)9(13)8-5(6)2-1...</td>\n",
       "      <td>NaN</td>\n",
       "      <td>R18|R26|R27|</td>\n",
       "      <td>A</td>\n",
       "      <td>NaN</td>\n",
       "    </tr>\n",
       "    <tr>\n",
       "      <th>3</th>\n",
       "      <td>4</td>\n",
       "      <td>bbcpd11 (cimetidine analog) (y-g13)</td>\n",
       "      <td>2-[2-[(3-bromopyridin-2-yl)methylsulfanyl]ethy...</td>\n",
       "      <td>CCNC(=NCCSCc1ncccc1Br)NC#N</td>\n",
       "      <td>14022517.0</td>\n",
       "      <td>-2.15</td>\n",
       "      <td>BBB-</td>\n",
       "      <td>InChI=1S/C12H16BrN5S/c1-2-15-12(18-9-14)17-6-7...</td>\n",
       "      <td>NaN</td>\n",
       "      <td>R2|R2|R8|R40|R2|R2|R2|R2|R18|R21|R25|R25|R26|R...</td>\n",
       "      <td>A</td>\n",
       "      <td>NaN</td>\n",
       "    </tr>\n",
       "    <tr>\n",
       "      <th>4</th>\n",
       "      <td>5</td>\n",
       "      <td>schembl614298</td>\n",
       "      <td>(2s,3s,4s,5r)-6-[[(4r,4ar,7s,7ar,12bs)-7-hydro...</td>\n",
       "      <td>CN1CC[C@]23c4c5ccc(OC6O[C@H](C(=O)O)[C@@H](O)[...</td>\n",
       "      <td>18595497.0</td>\n",
       "      <td>-2.15</td>\n",
       "      <td>BBB-</td>\n",
       "      <td>InChI=1S/C23H27NO9/c1-24-7-6-23-10-3-4-12(25)2...</td>\n",
       "      <td>NaN</td>\n",
       "      <td>R25|</td>\n",
       "      <td>A</td>\n",
       "      <td>NaN</td>\n",
       "    </tr>\n",
       "  </tbody>\n",
       "</table>\n",
       "</div>"
      ],
      "text/plain": [
       "   NO.                        compound_name  \\\n",
       "0    1                       sulphasalazine   \n",
       "1    2                           moxalactam   \n",
       "2    3                           clioquinol   \n",
       "3    4  bbcpd11 (cimetidine analog) (y-g13)   \n",
       "4    5                        schembl614298   \n",
       "\n",
       "                                          IUPAC_name  \\\n",
       "0  2-hydroxy-5-[[4-(pyridin-2-ylsulfamoyl)phenyl]...   \n",
       "1  7-[[2-carboxy-2-(4-hydroxyphenyl)acetyl]amino]...   \n",
       "2                       5-chloro-7-iodoquinolin-8-ol   \n",
       "3  2-[2-[(3-bromopyridin-2-yl)methylsulfanyl]ethy...   \n",
       "4  (2s,3s,4s,5r)-6-[[(4r,4ar,7s,7ar,12bs)-7-hydro...   \n",
       "\n",
       "                                              SMILES         CID  logBB  \\\n",
       "0   O=C(O)c1cc(N=Nc2ccc(S(=O)(=O)Nc3ccccn3)cc2)ccc1O      5339.0  -2.69   \n",
       "1  COC1(NC(=O)C(C(=O)O)c2ccc(O)cc2)C(=O)N2C(C(=O)...      3889.0  -2.52   \n",
       "2                             Oc1c(I)cc(Cl)c2cccnc12      2788.0  -2.40   \n",
       "3                         CCNC(=NCCSCc1ncccc1Br)NC#N  14022517.0  -2.15   \n",
       "4  CN1CC[C@]23c4c5ccc(OC6O[C@H](C(=O)O)[C@@H](O)[...  18595497.0  -2.15   \n",
       "\n",
       "  BBB+/BBB-                                              Inchi  threshold  \\\n",
       "0      BBB-  InChI=1S/C18H14N4O5S/c23-16-9-6-13(11-15(16)18...        NaN   \n",
       "1      BBB-  InChI=1S/C20H20N6O9S/c1-25-19(22-23-24-25)36-8...        NaN   \n",
       "2      BBB-  InChI=1S/C9H5ClINO/c10-6-4-7(11)9(13)8-5(6)2-1...        NaN   \n",
       "3      BBB-  InChI=1S/C12H16BrN5S/c1-2-15-12(18-9-14)17-6-7...        NaN   \n",
       "4      BBB-  InChI=1S/C23H27NO9/c1-24-7-6-23-10-3-4-12(25)2...        NaN   \n",
       "\n",
       "                                           reference group comments  \n",
       "0                                     R2|R2|R25|R46|     A      NaN  \n",
       "1                                               R25|     A      NaN  \n",
       "2                                       R18|R26|R27|     A      NaN  \n",
       "3  R2|R2|R8|R40|R2|R2|R2|R2|R18|R21|R25|R25|R26|R...     A      NaN  \n",
       "4                                               R25|     A      NaN  "
      ]
     },
     "execution_count": 328,
     "metadata": {},
     "output_type": "execute_result"
    }
   ],
   "source": [
    "data_1 = pd.read_csv('B3DB_classification.tsv', sep='\\t')\n",
    "data_1.head()"
   ]
  },
  {
   "cell_type": "code",
   "execution_count": 329,
   "id": "03ef67d9",
   "metadata": {},
   "outputs": [
    {
     "name": "stdout",
     "output_type": "stream",
     "text": [
      "<class 'pandas.core.frame.DataFrame'>\n",
      "RangeIndex: 7807 entries, 0 to 7806\n",
      "Data columns (total 12 columns):\n",
      " #   Column         Non-Null Count  Dtype  \n",
      "---  ------         --------------  -----  \n",
      " 0   NO.            7807 non-null   int64  \n",
      " 1   compound_name  6698 non-null   object \n",
      " 2   IUPAC_name     6170 non-null   object \n",
      " 3   SMILES         7807 non-null   object \n",
      " 4   CID            6170 non-null   float64\n",
      " 5   logBB          1058 non-null   float64\n",
      " 6   BBB+/BBB-      7807 non-null   object \n",
      " 7   Inchi          7807 non-null   object \n",
      " 8   threshold      3621 non-null   float64\n",
      " 9   reference      7807 non-null   object \n",
      " 10  group          7807 non-null   object \n",
      " 11  comments       18 non-null     object \n",
      "dtypes: float64(3), int64(1), object(8)\n",
      "memory usage: 732.0+ KB\n"
     ]
    }
   ],
   "source": [
    "data_1.info()"
   ]
  },
  {
   "cell_type": "code",
   "execution_count": 330,
   "id": "97840e1f",
   "metadata": {},
   "outputs": [],
   "source": [
    "data_1 = data_1[['SMILES', 'logBB']]\n"
   ]
  },
  {
   "cell_type": "code",
   "execution_count": 331,
   "id": "c68cc74b",
   "metadata": {},
   "outputs": [],
   "source": [
    "data_1['SMILES'] = data_1['SMILES'].apply(lambda smi: Chem.CanonSmiles(Chem.MolToSmiles(Chem.MolFromSmiles(smi))))"
   ]
  },
  {
   "cell_type": "code",
   "execution_count": 332,
   "id": "37620fe2",
   "metadata": {},
   "outputs": [
    {
     "data": {
      "text/html": [
       "<div>\n",
       "<style scoped>\n",
       "    .dataframe tbody tr th:only-of-type {\n",
       "        vertical-align: middle;\n",
       "    }\n",
       "\n",
       "    .dataframe tbody tr th {\n",
       "        vertical-align: top;\n",
       "    }\n",
       "\n",
       "    .dataframe thead th {\n",
       "        text-align: right;\n",
       "    }\n",
       "</style>\n",
       "<table border=\"1\" class=\"dataframe\">\n",
       "  <thead>\n",
       "    <tr style=\"text-align: right;\">\n",
       "      <th></th>\n",
       "      <th>SMILES</th>\n",
       "      <th>logBB</th>\n",
       "    </tr>\n",
       "  </thead>\n",
       "  <tbody>\n",
       "    <tr>\n",
       "      <th>0</th>\n",
       "      <td>O=C(O)c1cc(N=Nc2ccc(S(=O)(=O)Nc3ccccn3)cc2)ccc1O</td>\n",
       "      <td>-2.69</td>\n",
       "    </tr>\n",
       "    <tr>\n",
       "      <th>1</th>\n",
       "      <td>COC1(NC(=O)C(C(=O)O)c2ccc(O)cc2)C(=O)N2C(C(=O)...</td>\n",
       "      <td>-2.52</td>\n",
       "    </tr>\n",
       "    <tr>\n",
       "      <th>2</th>\n",
       "      <td>Oc1c(I)cc(Cl)c2cccnc12</td>\n",
       "      <td>-2.40</td>\n",
       "    </tr>\n",
       "    <tr>\n",
       "      <th>3</th>\n",
       "      <td>CCNC(=NCCSCc1ncccc1Br)NC#N</td>\n",
       "      <td>-2.15</td>\n",
       "    </tr>\n",
       "    <tr>\n",
       "      <th>4</th>\n",
       "      <td>CN1CC[C@]23c4c5ccc(OC6O[C@H](C(=O)O)[C@@H](O)[...</td>\n",
       "      <td>-2.15</td>\n",
       "    </tr>\n",
       "  </tbody>\n",
       "</table>\n",
       "</div>"
      ],
      "text/plain": [
       "                                              SMILES  logBB\n",
       "0   O=C(O)c1cc(N=Nc2ccc(S(=O)(=O)Nc3ccccn3)cc2)ccc1O  -2.69\n",
       "1  COC1(NC(=O)C(C(=O)O)c2ccc(O)cc2)C(=O)N2C(C(=O)...  -2.52\n",
       "2                             Oc1c(I)cc(Cl)c2cccnc12  -2.40\n",
       "3                         CCNC(=NCCSCc1ncccc1Br)NC#N  -2.15\n",
       "4  CN1CC[C@]23c4c5ccc(OC6O[C@H](C(=O)O)[C@@H](O)[...  -2.15"
      ]
     },
     "execution_count": 332,
     "metadata": {},
     "output_type": "execute_result"
    }
   ],
   "source": [
    "data_1.head()"
   ]
  },
  {
   "cell_type": "code",
   "execution_count": 333,
   "id": "4b01defd",
   "metadata": {},
   "outputs": [
    {
     "name": "stdout",
     "output_type": "stream",
     "text": [
      "<class 'pandas.core.frame.DataFrame'>\n",
      "RangeIndex: 7807 entries, 0 to 7806\n",
      "Data columns (total 2 columns):\n",
      " #   Column  Non-Null Count  Dtype  \n",
      "---  ------  --------------  -----  \n",
      " 0   SMILES  7807 non-null   object \n",
      " 1   logBB   7807 non-null   float64\n",
      "dtypes: float64(1), object(1)\n",
      "memory usage: 122.1+ KB\n"
     ]
    }
   ],
   "source": [
    "data_1['logBB'] = data_1['logBB'].fillna(-1e9)\n",
    "data_1.info()"
   ]
  },
  {
   "cell_type": "code",
   "execution_count": 334,
   "id": "12509a42",
   "metadata": {},
   "outputs": [
    {
     "name": "stdout",
     "output_type": "stream",
     "text": [
      "<class 'pandas.core.frame.DataFrame'>\n",
      "Int64Index: 1058 entries, 0 to 1057\n",
      "Data columns (total 2 columns):\n",
      " #   Column  Non-Null Count  Dtype  \n",
      "---  ------  --------------  -----  \n",
      " 0   SMILES  1058 non-null   object \n",
      " 1   logBB   1058 non-null   float64\n",
      "dtypes: float64(1), object(1)\n",
      "memory usage: 24.8+ KB\n"
     ]
    }
   ],
   "source": [
    "data_1 = data_1[data_1['logBB'] > -1e9]\n",
    "data_1.info()"
   ]
  },
  {
   "cell_type": "code",
   "execution_count": 335,
   "id": "7c1ed9e2",
   "metadata": {},
   "outputs": [
    {
     "data": {
      "text/plain": [
       "1058"
      ]
     },
     "execution_count": 335,
     "metadata": {},
     "output_type": "execute_result"
    }
   ],
   "source": [
    "len(data_1['SMILES'].unique())"
   ]
  },
  {
   "cell_type": "code",
   "execution_count": 336,
   "id": "6a5a5b7c",
   "metadata": {},
   "outputs": [
    {
     "data": {
      "text/html": [
       "<div>\n",
       "<style scoped>\n",
       "    .dataframe tbody tr th:only-of-type {\n",
       "        vertical-align: middle;\n",
       "    }\n",
       "\n",
       "    .dataframe tbody tr th {\n",
       "        vertical-align: top;\n",
       "    }\n",
       "\n",
       "    .dataframe thead th {\n",
       "        text-align: right;\n",
       "    }\n",
       "</style>\n",
       "<table border=\"1\" class=\"dataframe\">\n",
       "  <thead>\n",
       "    <tr style=\"text-align: right;\">\n",
       "      <th></th>\n",
       "      <th>SMILES</th>\n",
       "      <th>Activity</th>\n",
       "    </tr>\n",
       "  </thead>\n",
       "  <tbody>\n",
       "    <tr>\n",
       "      <th>0</th>\n",
       "      <td>O=C(O)c1cc(N=Nc2ccc(S(=O)(=O)Nc3ccccn3)cc2)ccc1O</td>\n",
       "      <td>-2.69</td>\n",
       "    </tr>\n",
       "    <tr>\n",
       "      <th>1</th>\n",
       "      <td>COC1(NC(=O)C(C(=O)O)c2ccc(O)cc2)C(=O)N2C(C(=O)...</td>\n",
       "      <td>-2.52</td>\n",
       "    </tr>\n",
       "    <tr>\n",
       "      <th>2</th>\n",
       "      <td>Oc1c(I)cc(Cl)c2cccnc12</td>\n",
       "      <td>-2.40</td>\n",
       "    </tr>\n",
       "    <tr>\n",
       "      <th>3</th>\n",
       "      <td>CCNC(=NCCSCc1ncccc1Br)NC#N</td>\n",
       "      <td>-2.15</td>\n",
       "    </tr>\n",
       "    <tr>\n",
       "      <th>4</th>\n",
       "      <td>CN1CC[C@]23c4c5ccc(OC6O[C@H](C(=O)O)[C@@H](O)[...</td>\n",
       "      <td>-2.15</td>\n",
       "    </tr>\n",
       "  </tbody>\n",
       "</table>\n",
       "</div>"
      ],
      "text/plain": [
       "                                              SMILES  Activity\n",
       "0   O=C(O)c1cc(N=Nc2ccc(S(=O)(=O)Nc3ccccn3)cc2)ccc1O     -2.69\n",
       "1  COC1(NC(=O)C(C(=O)O)c2ccc(O)cc2)C(=O)N2C(C(=O)...     -2.52\n",
       "2                             Oc1c(I)cc(Cl)c2cccnc12     -2.40\n",
       "3                         CCNC(=NCCSCc1ncccc1Br)NC#N     -2.15\n",
       "4  CN1CC[C@]23c4c5ccc(OC6O[C@H](C(=O)O)[C@@H](O)[...     -2.15"
      ]
     },
     "execution_count": 336,
     "metadata": {},
     "output_type": "execute_result"
    }
   ],
   "source": [
    "data_1 = data_1.rename(columns={'SMILES':'SMILES', 'logBB':'Activity'})\n",
    "data_1.head()"
   ]
  },
  {
   "cell_type": "code",
   "execution_count": 337,
   "id": "e457311a",
   "metadata": {},
   "outputs": [
    {
     "name": "stdout",
     "output_type": "stream",
     "text": [
      "<class 'pandas.core.frame.DataFrame'>\n",
      "Int64Index: 1041 entries, 11 to 1051\n",
      "Data columns (total 2 columns):\n",
      " #   Column    Non-Null Count  Dtype  \n",
      "---  ------    --------------  -----  \n",
      " 0   SMILES    1041 non-null   object \n",
      " 1   Activity  1041 non-null   float64\n",
      "dtypes: float64(1), object(1)\n",
      "memory usage: 24.4+ KB\n"
     ]
    }
   ],
   "source": [
    "# data_1 = data_1[(data_1['Activity'] > -2) & (data_1['Activity'] < 1.5)]\n",
    "# data_1.info()"
   ]
  },
  {
   "cell_type": "code",
   "execution_count": 338,
   "id": "8c02ae59",
   "metadata": {},
   "outputs": [
    {
     "data": {
      "text/html": [
       "<div>\n",
       "<style scoped>\n",
       "    .dataframe tbody tr th:only-of-type {\n",
       "        vertical-align: middle;\n",
       "    }\n",
       "\n",
       "    .dataframe tbody tr th {\n",
       "        vertical-align: top;\n",
       "    }\n",
       "\n",
       "    .dataframe thead th {\n",
       "        text-align: right;\n",
       "    }\n",
       "</style>\n",
       "<table border=\"1\" class=\"dataframe\">\n",
       "  <thead>\n",
       "    <tr style=\"text-align: right;\">\n",
       "      <th></th>\n",
       "      <th>SMILES</th>\n",
       "      <th>Activity</th>\n",
       "    </tr>\n",
       "  </thead>\n",
       "  <tbody>\n",
       "    <tr>\n",
       "      <th>11</th>\n",
       "      <td>CCC(CC)O[C@@H]1C=C(C(=O)O)C[C@H](N)[C@@H]1NCOC</td>\n",
       "      <td>-1.96</td>\n",
       "    </tr>\n",
       "    <tr>\n",
       "      <th>12</th>\n",
       "      <td>Cc1ccc(Cc2cnc(NCCCCc3ncc(Br)cc3C)[nH]c2=O)cn1</td>\n",
       "      <td>-1.90</td>\n",
       "    </tr>\n",
       "    <tr>\n",
       "      <th>13</th>\n",
       "      <td>COC1(NC(=O)C2SC(=C(C(N)=O)C(=O)O)S2)C(=O)N2C(C...</td>\n",
       "      <td>-1.89</td>\n",
       "    </tr>\n",
       "    <tr>\n",
       "      <th>14</th>\n",
       "      <td>CO[C@@]1(NC(=O)C2SC(=C(C(N)=O)C(=O)O)S2)C(=O)N...</td>\n",
       "      <td>-1.89</td>\n",
       "    </tr>\n",
       "    <tr>\n",
       "      <th>15</th>\n",
       "      <td>c1ccc(NC2=NCCN2)cc1</td>\n",
       "      <td>-1.89</td>\n",
       "    </tr>\n",
       "    <tr>\n",
       "      <th>...</th>\n",
       "      <td>...</td>\n",
       "      <td>...</td>\n",
       "    </tr>\n",
       "    <tr>\n",
       "      <th>1047</th>\n",
       "      <td>CC(NC(C)(C)C)C(=O)c1cccc(Cl)c1</td>\n",
       "      <td>1.40</td>\n",
       "    </tr>\n",
       "    <tr>\n",
       "      <th>1048</th>\n",
       "      <td>CC1CCN(CCCN2c3ccccc3Sc3ccc(C(F)(F)F)cc32)CC1</td>\n",
       "      <td>1.44</td>\n",
       "    </tr>\n",
       "    <tr>\n",
       "      <th>1049</th>\n",
       "      <td>CN(C)CCCN1c2ccccc2Sc2ccc(C(F)(F)F)cc21</td>\n",
       "      <td>1.44</td>\n",
       "    </tr>\n",
       "    <tr>\n",
       "      <th>1050</th>\n",
       "      <td>CN1CCN(CCCN2c3ccccc3Sc3cccc(C(F)(F)F)c32)CC1</td>\n",
       "      <td>1.44</td>\n",
       "    </tr>\n",
       "    <tr>\n",
       "      <th>1051</th>\n",
       "      <td>O=C(CCCN1CCCN(c2ccc(Cl)cc2)CC1)c1ccc(F)cc1</td>\n",
       "      <td>1.48</td>\n",
       "    </tr>\n",
       "  </tbody>\n",
       "</table>\n",
       "<p>1041 rows × 2 columns</p>\n",
       "</div>"
      ],
      "text/plain": [
       "                                                 SMILES  Activity\n",
       "11       CCC(CC)O[C@@H]1C=C(C(=O)O)C[C@H](N)[C@@H]1NCOC     -1.96\n",
       "12        Cc1ccc(Cc2cnc(NCCCCc3ncc(Br)cc3C)[nH]c2=O)cn1     -1.90\n",
       "13    COC1(NC(=O)C2SC(=C(C(N)=O)C(=O)O)S2)C(=O)N2C(C...     -1.89\n",
       "14    CO[C@@]1(NC(=O)C2SC(=C(C(N)=O)C(=O)O)S2)C(=O)N...     -1.89\n",
       "15                                  c1ccc(NC2=NCCN2)cc1     -1.89\n",
       "...                                                 ...       ...\n",
       "1047                     CC(NC(C)(C)C)C(=O)c1cccc(Cl)c1      1.40\n",
       "1048       CC1CCN(CCCN2c3ccccc3Sc3ccc(C(F)(F)F)cc32)CC1      1.44\n",
       "1049             CN(C)CCCN1c2ccccc2Sc2ccc(C(F)(F)F)cc21      1.44\n",
       "1050       CN1CCN(CCCN2c3ccccc3Sc3cccc(C(F)(F)F)c32)CC1      1.44\n",
       "1051         O=C(CCCN1CCCN(c2ccc(Cl)cc2)CC1)c1ccc(F)cc1      1.48\n",
       "\n",
       "[1041 rows x 2 columns]"
      ]
     },
     "execution_count": 338,
     "metadata": {},
     "output_type": "execute_result"
    }
   ],
   "source": [
    "# data_1"
   ]
  },
  {
   "cell_type": "code",
   "execution_count": 339,
   "id": "095ea4a3",
   "metadata": {},
   "outputs": [
    {
     "data": {
      "text/html": [
       "<div>\n",
       "<style scoped>\n",
       "    .dataframe tbody tr th:only-of-type {\n",
       "        vertical-align: middle;\n",
       "    }\n",
       "\n",
       "    .dataframe tbody tr th {\n",
       "        vertical-align: top;\n",
       "    }\n",
       "\n",
       "    .dataframe thead th {\n",
       "        text-align: right;\n",
       "    }\n",
       "</style>\n",
       "<table border=\"1\" class=\"dataframe\">\n",
       "  <thead>\n",
       "    <tr style=\"text-align: right;\">\n",
       "      <th></th>\n",
       "      <th>SMILES</th>\n",
       "      <th>Activity</th>\n",
       "    </tr>\n",
       "  </thead>\n",
       "  <tbody>\n",
       "    <tr>\n",
       "      <th>11</th>\n",
       "      <td>CCC(CC)O[C@@H]1C=C(C(=O)O)C[C@H](N)[C@@H]1NCOC</td>\n",
       "      <td>-1.96</td>\n",
       "    </tr>\n",
       "    <tr>\n",
       "      <th>12</th>\n",
       "      <td>Cc1ccc(Cc2cnc(NCCCCc3ncc(Br)cc3C)[nH]c2=O)cn1</td>\n",
       "      <td>-1.90</td>\n",
       "    </tr>\n",
       "    <tr>\n",
       "      <th>13</th>\n",
       "      <td>COC1(NC(=O)C2SC(=C(C(N)=O)C(=O)O)S2)C(=O)N2C(C...</td>\n",
       "      <td>-1.89</td>\n",
       "    </tr>\n",
       "    <tr>\n",
       "      <th>14</th>\n",
       "      <td>CO[C@@]1(NC(=O)C2SC(=C(C(N)=O)C(=O)O)S2)C(=O)N...</td>\n",
       "      <td>-1.89</td>\n",
       "    </tr>\n",
       "    <tr>\n",
       "      <th>15</th>\n",
       "      <td>c1ccc(NC2=NCCN2)cc1</td>\n",
       "      <td>-1.89</td>\n",
       "    </tr>\n",
       "    <tr>\n",
       "      <th>...</th>\n",
       "      <td>...</td>\n",
       "      <td>...</td>\n",
       "    </tr>\n",
       "    <tr>\n",
       "      <th>1047</th>\n",
       "      <td>CC(NC(C)(C)C)C(=O)c1cccc(Cl)c1</td>\n",
       "      <td>1.40</td>\n",
       "    </tr>\n",
       "    <tr>\n",
       "      <th>1048</th>\n",
       "      <td>CC1CCN(CCCN2c3ccccc3Sc3ccc(C(F)(F)F)cc32)CC1</td>\n",
       "      <td>1.44</td>\n",
       "    </tr>\n",
       "    <tr>\n",
       "      <th>1049</th>\n",
       "      <td>CN(C)CCCN1c2ccccc2Sc2ccc(C(F)(F)F)cc21</td>\n",
       "      <td>1.44</td>\n",
       "    </tr>\n",
       "    <tr>\n",
       "      <th>1050</th>\n",
       "      <td>CN1CCN(CCCN2c3ccccc3Sc3cccc(C(F)(F)F)c32)CC1</td>\n",
       "      <td>1.44</td>\n",
       "    </tr>\n",
       "    <tr>\n",
       "      <th>1051</th>\n",
       "      <td>O=C(CCCN1CCCN(c2ccc(Cl)cc2)CC1)c1ccc(F)cc1</td>\n",
       "      <td>1.48</td>\n",
       "    </tr>\n",
       "  </tbody>\n",
       "</table>\n",
       "<p>1041 rows × 2 columns</p>\n",
       "</div>"
      ],
      "text/plain": [
       "                                                 SMILES  Activity\n",
       "11       CCC(CC)O[C@@H]1C=C(C(=O)O)C[C@H](N)[C@@H]1NCOC     -1.96\n",
       "12        Cc1ccc(Cc2cnc(NCCCCc3ncc(Br)cc3C)[nH]c2=O)cn1     -1.90\n",
       "13    COC1(NC(=O)C2SC(=C(C(N)=O)C(=O)O)S2)C(=O)N2C(C...     -1.89\n",
       "14    CO[C@@]1(NC(=O)C2SC(=C(C(N)=O)C(=O)O)S2)C(=O)N...     -1.89\n",
       "15                                  c1ccc(NC2=NCCN2)cc1     -1.89\n",
       "...                                                 ...       ...\n",
       "1047                     CC(NC(C)(C)C)C(=O)c1cccc(Cl)c1      1.40\n",
       "1048       CC1CCN(CCCN2c3ccccc3Sc3ccc(C(F)(F)F)cc32)CC1      1.44\n",
       "1049             CN(C)CCCN1c2ccccc2Sc2ccc(C(F)(F)F)cc21      1.44\n",
       "1050       CN1CCN(CCCN2c3ccccc3Sc3cccc(C(F)(F)F)c32)CC1      1.44\n",
       "1051         O=C(CCCN1CCCN(c2ccc(Cl)cc2)CC1)c1ccc(F)cc1      1.48\n",
       "\n",
       "[1041 rows x 2 columns]"
      ]
     },
     "execution_count": 339,
     "metadata": {},
     "output_type": "execute_result"
    }
   ],
   "source": [
    "data_1.drop_duplicates()"
   ]
  },
  {
   "cell_type": "code",
   "execution_count": 340,
   "id": "423132e5",
   "metadata": {},
   "outputs": [],
   "source": [
    "# data_1['Source'] = [['B3DB']] * len(data_1)\n",
    "# data_1.head()"
   ]
  },
  {
   "cell_type": "code",
   "execution_count": 341,
   "id": "60161e5f",
   "metadata": {},
   "outputs": [],
   "source": [
    "# data_1.info()"
   ]
  },
  {
   "cell_type": "code",
   "execution_count": 342,
   "id": "63b3adaf",
   "metadata": {},
   "outputs": [
    {
     "data": {
      "text/html": [
       "<div>\n",
       "<style scoped>\n",
       "    .dataframe tbody tr th:only-of-type {\n",
       "        vertical-align: middle;\n",
       "    }\n",
       "\n",
       "    .dataframe tbody tr th {\n",
       "        vertical-align: top;\n",
       "    }\n",
       "\n",
       "    .dataframe thead th {\n",
       "        text-align: right;\n",
       "    }\n",
       "</style>\n",
       "<table border=\"1\" class=\"dataframe\">\n",
       "  <thead>\n",
       "    <tr style=\"text-align: right;\">\n",
       "      <th></th>\n",
       "      <th>Activity</th>\n",
       "    </tr>\n",
       "  </thead>\n",
       "  <tbody>\n",
       "    <tr>\n",
       "      <th>count</th>\n",
       "      <td>1041.000000</td>\n",
       "    </tr>\n",
       "    <tr>\n",
       "      <th>mean</th>\n",
       "      <td>-0.065024</td>\n",
       "    </tr>\n",
       "    <tr>\n",
       "      <th>std</th>\n",
       "      <td>0.713733</td>\n",
       "    </tr>\n",
       "    <tr>\n",
       "      <th>min</th>\n",
       "      <td>-1.960000</td>\n",
       "    </tr>\n",
       "    <tr>\n",
       "      <th>25%</th>\n",
       "      <td>-0.520000</td>\n",
       "    </tr>\n",
       "    <tr>\n",
       "      <th>50%</th>\n",
       "      <td>-0.010000</td>\n",
       "    </tr>\n",
       "    <tr>\n",
       "      <th>75%</th>\n",
       "      <td>0.420000</td>\n",
       "    </tr>\n",
       "    <tr>\n",
       "      <th>max</th>\n",
       "      <td>1.480000</td>\n",
       "    </tr>\n",
       "  </tbody>\n",
       "</table>\n",
       "</div>"
      ],
      "text/plain": [
       "          Activity\n",
       "count  1041.000000\n",
       "mean     -0.065024\n",
       "std       0.713733\n",
       "min      -1.960000\n",
       "25%      -0.520000\n",
       "50%      -0.010000\n",
       "75%       0.420000\n",
       "max       1.480000"
      ]
     },
     "execution_count": 342,
     "metadata": {},
     "output_type": "execute_result"
    }
   ],
   "source": [
    "data_1.describe()"
   ]
  },
  {
   "cell_type": "code",
   "execution_count": 343,
   "id": "498cffe2",
   "metadata": {},
   "outputs": [],
   "source": [
    "# data_1_lower_bound = round(-0.077873 - 0.751623 * 3, 2)\n",
    "# data_1_upper_bound = round(-0.077873 + 0.751623 * 3, 2)\n",
    "\n",
    "# print(data_1_lower_bound)\n",
    "# print(data_1_upper_bound)"
   ]
  },
  {
   "cell_type": "code",
   "execution_count": 344,
   "id": "37226bfd",
   "metadata": {},
   "outputs": [],
   "source": [
    "# #удаляем выбросы\n",
    "# for i, row in data_1.iterrows():\n",
    "#     if row.Activity < data_1_lower_bound or row.Activity > data_1_upper_bound:\n",
    "#         data_1 = data_1.drop(labels=[i], axis=0)\n",
    "# data_1.info()"
   ]
  },
  {
   "cell_type": "code",
   "execution_count": 345,
   "id": "6b9717cf",
   "metadata": {},
   "outputs": [
    {
     "name": "stdout",
     "output_type": "stream",
     "text": [
      "<class 'pandas.core.frame.DataFrame'>\n",
      "Int64Index: 1030 entries, 11 to 1051\n",
      "Data columns (total 2 columns):\n",
      " #   Column    Non-Null Count  Dtype  \n",
      "---  ------    --------------  -----  \n",
      " 0   SMILES    1030 non-null   object \n",
      " 1   Activity  1030 non-null   float64\n",
      "dtypes: float64(1), object(1)\n",
      "memory usage: 24.1+ KB\n"
     ]
    }
   ],
   "source": [
    "# for i, row in data_1.iterrows():\n",
    "#     if 'C' not in row.SMILES and 'c' not in row.SMILES:\n",
    "#         data_1 = data_1.drop(labels=[i], axis=0)\n",
    "# data_1.info()"
   ]
  },
  {
   "cell_type": "code",
   "execution_count": 346,
   "id": "dd4cc338",
   "metadata": {},
   "outputs": [
    {
     "data": {
      "text/html": [
       "<div>\n",
       "<style scoped>\n",
       "    .dataframe tbody tr th:only-of-type {\n",
       "        vertical-align: middle;\n",
       "    }\n",
       "\n",
       "    .dataframe tbody tr th {\n",
       "        vertical-align: top;\n",
       "    }\n",
       "\n",
       "    .dataframe thead th {\n",
       "        text-align: right;\n",
       "    }\n",
       "</style>\n",
       "<table border=\"1\" class=\"dataframe\">\n",
       "  <thead>\n",
       "    <tr style=\"text-align: right;\">\n",
       "      <th></th>\n",
       "      <th>N</th>\n",
       "      <th>Structure</th>\n",
       "      <th>LogBB</th>\n",
       "      <th>Name</th>\n",
       "      <th>tissue</th>\n",
       "      <th>Ref</th>\n",
       "    </tr>\n",
       "  </thead>\n",
       "  <tbody>\n",
       "    <tr>\n",
       "      <th>0</th>\n",
       "      <td>1</td>\n",
       "      <td>CCCCCC(C)C</td>\n",
       "      <td>0.86</td>\n",
       "      <td>2-Methyl heptane</td>\n",
       "      <td>Blood</td>\n",
       "      <td>1</td>\n",
       "    </tr>\n",
       "    <tr>\n",
       "      <th>1</th>\n",
       "      <td>2</td>\n",
       "      <td>CCCCCCC(C)C</td>\n",
       "      <td>0.98</td>\n",
       "      <td>2-Methyl octane</td>\n",
       "      <td>Blood</td>\n",
       "      <td>1</td>\n",
       "    </tr>\n",
       "    <tr>\n",
       "      <th>2</th>\n",
       "      <td>3</td>\n",
       "      <td>CCCCCCCC(C)C</td>\n",
       "      <td>1.05</td>\n",
       "      <td>2-Methyl nonane</td>\n",
       "      <td>Blood</td>\n",
       "      <td>1</td>\n",
       "    </tr>\n",
       "    <tr>\n",
       "      <th>3</th>\n",
       "      <td>4</td>\n",
       "      <td>CCC(C)CC</td>\n",
       "      <td>1.01</td>\n",
       "      <td>3-Methylpentane</td>\n",
       "      <td>Blood</td>\n",
       "      <td>2</td>\n",
       "    </tr>\n",
       "    <tr>\n",
       "      <th>4</th>\n",
       "      <td>5</td>\n",
       "      <td>CCCC(C)CC</td>\n",
       "      <td>0.90</td>\n",
       "      <td>3-Methylhexane</td>\n",
       "      <td>Blood</td>\n",
       "      <td>2</td>\n",
       "    </tr>\n",
       "  </tbody>\n",
       "</table>\n",
       "</div>"
      ],
      "text/plain": [
       "   N     Structure  LogBB              Name tissue  Ref\n",
       "0  1    CCCCCC(C)C   0.86  2-Methyl heptane  Blood    1\n",
       "1  2   CCCCCCC(C)C   0.98   2-Methyl octane  Blood    1\n",
       "2  3  CCCCCCCC(C)C   1.05   2-Methyl nonane  Blood    1\n",
       "3  4      CCC(C)CC   1.01   3-Methylpentane  Blood    2\n",
       "4  5     CCCC(C)CC   0.90    3-Methylhexane  Blood    2"
      ]
     },
     "execution_count": 346,
     "metadata": {},
     "output_type": "execute_result"
    }
   ],
   "source": [
    "# data_2 = pd.read_csv('LogBBdataset529.txt', sep='\\t')\n",
    "# data_2.head()"
   ]
  },
  {
   "cell_type": "code",
   "execution_count": 347,
   "id": "3ed83b80",
   "metadata": {},
   "outputs": [
    {
     "data": {
      "text/html": [
       "<div>\n",
       "<style scoped>\n",
       "    .dataframe tbody tr th:only-of-type {\n",
       "        vertical-align: middle;\n",
       "    }\n",
       "\n",
       "    .dataframe tbody tr th {\n",
       "        vertical-align: top;\n",
       "    }\n",
       "\n",
       "    .dataframe thead th {\n",
       "        text-align: right;\n",
       "    }\n",
       "</style>\n",
       "<table border=\"1\" class=\"dataframe\">\n",
       "  <thead>\n",
       "    <tr style=\"text-align: right;\">\n",
       "      <th></th>\n",
       "      <th>N</th>\n",
       "      <th>Structure</th>\n",
       "      <th>LogBB</th>\n",
       "      <th>Name</th>\n",
       "      <th>tissue</th>\n",
       "      <th>Ref</th>\n",
       "      <th>SMILES</th>\n",
       "    </tr>\n",
       "  </thead>\n",
       "  <tbody>\n",
       "    <tr>\n",
       "      <th>0</th>\n",
       "      <td>1</td>\n",
       "      <td>CCCCCC(C)C</td>\n",
       "      <td>0.86</td>\n",
       "      <td>2-Methyl heptane</td>\n",
       "      <td>Blood</td>\n",
       "      <td>1</td>\n",
       "      <td>CCCCCC(C)C</td>\n",
       "    </tr>\n",
       "    <tr>\n",
       "      <th>1</th>\n",
       "      <td>2</td>\n",
       "      <td>CCCCCCC(C)C</td>\n",
       "      <td>0.98</td>\n",
       "      <td>2-Methyl octane</td>\n",
       "      <td>Blood</td>\n",
       "      <td>1</td>\n",
       "      <td>CCCCCCC(C)C</td>\n",
       "    </tr>\n",
       "    <tr>\n",
       "      <th>2</th>\n",
       "      <td>3</td>\n",
       "      <td>CCCCCCCC(C)C</td>\n",
       "      <td>1.05</td>\n",
       "      <td>2-Methyl nonane</td>\n",
       "      <td>Blood</td>\n",
       "      <td>1</td>\n",
       "      <td>CCCCCCCC(C)C</td>\n",
       "    </tr>\n",
       "    <tr>\n",
       "      <th>3</th>\n",
       "      <td>4</td>\n",
       "      <td>CCC(C)CC</td>\n",
       "      <td>1.01</td>\n",
       "      <td>3-Methylpentane</td>\n",
       "      <td>Blood</td>\n",
       "      <td>2</td>\n",
       "      <td>CCC(C)CC</td>\n",
       "    </tr>\n",
       "    <tr>\n",
       "      <th>4</th>\n",
       "      <td>5</td>\n",
       "      <td>CCCC(C)CC</td>\n",
       "      <td>0.90</td>\n",
       "      <td>3-Methylhexane</td>\n",
       "      <td>Blood</td>\n",
       "      <td>2</td>\n",
       "      <td>CCCC(C)CC</td>\n",
       "    </tr>\n",
       "  </tbody>\n",
       "</table>\n",
       "</div>"
      ],
      "text/plain": [
       "   N     Structure  LogBB              Name tissue  Ref        SMILES\n",
       "0  1    CCCCCC(C)C   0.86  2-Methyl heptane  Blood    1    CCCCCC(C)C\n",
       "1  2   CCCCCCC(C)C   0.98   2-Methyl octane  Blood    1   CCCCCCC(C)C\n",
       "2  3  CCCCCCCC(C)C   1.05   2-Methyl nonane  Blood    1  CCCCCCCC(C)C\n",
       "3  4      CCC(C)CC   1.01   3-Methylpentane  Blood    2      CCC(C)CC\n",
       "4  5     CCCC(C)CC   0.90    3-Methylhexane  Blood    2     CCCC(C)CC"
      ]
     },
     "execution_count": 347,
     "metadata": {},
     "output_type": "execute_result"
    }
   ],
   "source": [
    "# data_2['SMILES'] = data_2['Structure'].apply(lambda smi: Chem.CanonSmiles(Chem.MolToSmiles(Chem.MolFromSmiles(smi))))\n",
    "# data_2.head()"
   ]
  },
  {
   "cell_type": "code",
   "execution_count": 348,
   "id": "132ddb2d",
   "metadata": {},
   "outputs": [],
   "source": [
    "# data_2 = data_2[['SMILES', 'LogBB']]"
   ]
  },
  {
   "cell_type": "code",
   "execution_count": 349,
   "id": "a06493fd",
   "metadata": {},
   "outputs": [
    {
     "data": {
      "text/html": [
       "<div>\n",
       "<style scoped>\n",
       "    .dataframe tbody tr th:only-of-type {\n",
       "        vertical-align: middle;\n",
       "    }\n",
       "\n",
       "    .dataframe tbody tr th {\n",
       "        vertical-align: top;\n",
       "    }\n",
       "\n",
       "    .dataframe thead th {\n",
       "        text-align: right;\n",
       "    }\n",
       "</style>\n",
       "<table border=\"1\" class=\"dataframe\">\n",
       "  <thead>\n",
       "    <tr style=\"text-align: right;\">\n",
       "      <th></th>\n",
       "      <th>SMILES</th>\n",
       "      <th>Activity</th>\n",
       "    </tr>\n",
       "  </thead>\n",
       "  <tbody>\n",
       "    <tr>\n",
       "      <th>0</th>\n",
       "      <td>CCCCCC(C)C</td>\n",
       "      <td>0.86</td>\n",
       "    </tr>\n",
       "    <tr>\n",
       "      <th>1</th>\n",
       "      <td>CCCCCCC(C)C</td>\n",
       "      <td>0.98</td>\n",
       "    </tr>\n",
       "    <tr>\n",
       "      <th>2</th>\n",
       "      <td>CCCCCCCC(C)C</td>\n",
       "      <td>1.05</td>\n",
       "    </tr>\n",
       "    <tr>\n",
       "      <th>3</th>\n",
       "      <td>CCC(C)CC</td>\n",
       "      <td>1.01</td>\n",
       "    </tr>\n",
       "    <tr>\n",
       "      <th>4</th>\n",
       "      <td>CCCC(C)CC</td>\n",
       "      <td>0.90</td>\n",
       "    </tr>\n",
       "  </tbody>\n",
       "</table>\n",
       "</div>"
      ],
      "text/plain": [
       "         SMILES  Activity\n",
       "0    CCCCCC(C)C      0.86\n",
       "1   CCCCCCC(C)C      0.98\n",
       "2  CCCCCCCC(C)C      1.05\n",
       "3      CCC(C)CC      1.01\n",
       "4     CCCC(C)CC      0.90"
      ]
     },
     "execution_count": 349,
     "metadata": {},
     "output_type": "execute_result"
    }
   ],
   "source": [
    "# data_2 = data_2.rename(columns={'LogBB':'Activity'})\n",
    "# data_2.head()"
   ]
  },
  {
   "cell_type": "code",
   "execution_count": 350,
   "id": "d1c156af",
   "metadata": {},
   "outputs": [],
   "source": [
    "data_1_smiles = data_1['SMILES'].tolist()\n",
    "data_2_smiles = data_2['SMILES'].tolist()"
   ]
  },
  {
   "cell_type": "code",
   "execution_count": 351,
   "id": "01faf033",
   "metadata": {},
   "outputs": [
    {
     "data": {
      "text/plain": [
       "477"
      ]
     },
     "execution_count": 351,
     "metadata": {},
     "output_type": "execute_result"
    }
   ],
   "source": [
    "smiles_both = []\n",
    "\n",
    "for smi in data_2_smiles:\n",
    "    if smi in data_1_smiles:\n",
    "        smiles_both.append(smi)\n",
    "len(smiles_both)"
   ]
  },
  {
   "cell_type": "code",
   "execution_count": 352,
   "id": "bf794d7c",
   "metadata": {},
   "outputs": [
    {
     "data": {
      "text/plain": [
       "52"
      ]
     },
     "execution_count": 352,
     "metadata": {},
     "output_type": "execute_result"
    }
   ],
   "source": [
    "only_data_2_smiles = list(set(data_2_smiles) - set(smiles_both))\n",
    "len(only_data_2_smiles)"
   ]
  },
  {
   "cell_type": "code",
   "execution_count": 353,
   "id": "0ddfae11",
   "metadata": {},
   "outputs": [
    {
     "data": {
      "text/plain": [
       "52"
      ]
     },
     "execution_count": 353,
     "metadata": {},
     "output_type": "execute_result"
    }
   ],
   "source": [
    "for i, row in data_2.iterrows():\n",
    "    if row.SMILES in smiles_both:\n",
    "        data_2 = data_2.drop(labels=[i], axis=0)\n",
    "len(data_2)"
   ]
  },
  {
   "cell_type": "code",
   "execution_count": 354,
   "id": "adcbaaac",
   "metadata": {},
   "outputs": [
    {
     "data": {
      "text/html": [
       "<div>\n",
       "<style scoped>\n",
       "    .dataframe tbody tr th:only-of-type {\n",
       "        vertical-align: middle;\n",
       "    }\n",
       "\n",
       "    .dataframe tbody tr th {\n",
       "        vertical-align: top;\n",
       "    }\n",
       "\n",
       "    .dataframe thead th {\n",
       "        text-align: right;\n",
       "    }\n",
       "</style>\n",
       "<table border=\"1\" class=\"dataframe\">\n",
       "  <thead>\n",
       "    <tr style=\"text-align: right;\">\n",
       "      <th></th>\n",
       "      <th>SMILES</th>\n",
       "      <th>Activity</th>\n",
       "    </tr>\n",
       "  </thead>\n",
       "  <tbody>\n",
       "    <tr>\n",
       "      <th>20</th>\n",
       "      <td>FC(F)(F)CCl</td>\n",
       "      <td>0.12</td>\n",
       "    </tr>\n",
       "    <tr>\n",
       "      <th>127</th>\n",
       "      <td>CN1C(=O)CCC1c1cccnc1</td>\n",
       "      <td>-0.38</td>\n",
       "    </tr>\n",
       "    <tr>\n",
       "      <th>161</th>\n",
       "      <td>Cc1ccc(Cc2c[nH]c(NCCSCc3ccc(CN(C)C)o3)nc2=O)cn1</td>\n",
       "      <td>-1.06</td>\n",
       "    </tr>\n",
       "    <tr>\n",
       "      <th>213</th>\n",
       "      <td>NC(N)=Nc1nc(-c2ccccc2)cs1</td>\n",
       "      <td>-0.18</td>\n",
       "    </tr>\n",
       "    <tr>\n",
       "      <th>217</th>\n",
       "      <td>CN/C(=N/C#N)Nc1cccc(-c2csc(N=C(N)N)n2)c1</td>\n",
       "      <td>-1.54</td>\n",
       "    </tr>\n",
       "    <tr>\n",
       "      <th>238</th>\n",
       "      <td>S=C(NC1CCCCC1)N1CCC(c2c[nH]cn2)CC1</td>\n",
       "      <td>-0.16</td>\n",
       "    </tr>\n",
       "    <tr>\n",
       "      <th>241</th>\n",
       "      <td>CN/C(=N/C#N)NCCSCc1csc(N=C(N)N)n1</td>\n",
       "      <td>-0.82</td>\n",
       "    </tr>\n",
       "    <tr>\n",
       "      <th>247</th>\n",
       "      <td>CN(C)CCc1ccccn1</td>\n",
       "      <td>-0.06</td>\n",
       "    </tr>\n",
       "    <tr>\n",
       "      <th>248</th>\n",
       "      <td>NCCc1nccs1</td>\n",
       "      <td>-0.42</td>\n",
       "    </tr>\n",
       "    <tr>\n",
       "      <th>267</th>\n",
       "      <td>COc1cc(C2c3cc4c(cc3C(OC3OC5COC(C)OC5C(O)C3O)C3...</td>\n",
       "      <td>-2.00</td>\n",
       "    </tr>\n",
       "    <tr>\n",
       "      <th>268</th>\n",
       "      <td>OCCN1CCN(CCCN2c3ccccc3Sc3ccc(C(F)(F)F)cc32)CC1</td>\n",
       "      <td>1.51</td>\n",
       "    </tr>\n",
       "    <tr>\n",
       "      <th>271</th>\n",
       "      <td>COc1cccnc1CCCCNc1nc(=O)c(Cc2ccc(C)nc2)c[nH]1</td>\n",
       "      <td>-2.00</td>\n",
       "    </tr>\n",
       "    <tr>\n",
       "      <th>276</th>\n",
       "      <td>CN1CCCCC1CCN1c2ccccc2Sc2ccc(S(C)=O)cc21</td>\n",
       "      <td>-0.36</td>\n",
       "    </tr>\n",
       "    <tr>\n",
       "      <th>287</th>\n",
       "      <td>Nc1c2c(nc3ccccc13)CCCC2</td>\n",
       "      <td>-0.13</td>\n",
       "    </tr>\n",
       "    <tr>\n",
       "      <th>288</th>\n",
       "      <td>Cc1ccc(Cc2c[nH]c(NCCCCc3ncc(Br)cc3C)nc2=O)cn1</td>\n",
       "      <td>-1.88</td>\n",
       "    </tr>\n",
       "    <tr>\n",
       "      <th>300</th>\n",
       "      <td>CCN/C(=N/C#N)NCCSCc1ncccc1Br</td>\n",
       "      <td>-2.15</td>\n",
       "    </tr>\n",
       "    <tr>\n",
       "      <th>301</th>\n",
       "      <td>FC(F)(F)c1ccc(N2CCNCC2)nc1Cl</td>\n",
       "      <td>1.64</td>\n",
       "    </tr>\n",
       "    <tr>\n",
       "      <th>310</th>\n",
       "      <td>CN/C(=N\\C#N)NCCSCc1[nH]cnc1C</td>\n",
       "      <td>-1.42</td>\n",
       "    </tr>\n",
       "    <tr>\n",
       "      <th>317</th>\n",
       "      <td>CC(=O)N[C@H]1CC[C@H](CCN2CCN(c3cccc(Cl)c3Cl)CC...</td>\n",
       "      <td>1.08</td>\n",
       "    </tr>\n",
       "    <tr>\n",
       "      <th>318</th>\n",
       "      <td>CCC(=O)N[C@H]1CC[C@H](CCN2CCN(c3cccc(Cl)c3Cl)C...</td>\n",
       "      <td>0.90</td>\n",
       "    </tr>\n",
       "    <tr>\n",
       "      <th>319</th>\n",
       "      <td>CS(=O)(=O)N[C@H]1CC[C@H](CCN2CCN(c3cccc(Cl)c3C...</td>\n",
       "      <td>1.00</td>\n",
       "    </tr>\n",
       "    <tr>\n",
       "      <th>327</th>\n",
       "      <td>CCc1cccc(/N=C(\\C)Nc2cccc(CC)c2)c1</td>\n",
       "      <td>1.20</td>\n",
       "    </tr>\n",
       "    <tr>\n",
       "      <th>337</th>\n",
       "      <td>O=C(O)COCCN1CCN(C(c2ccccc2)c2ccc(Cl)cc2)CC1</td>\n",
       "      <td>-1.30</td>\n",
       "    </tr>\n",
       "    <tr>\n",
       "      <th>342</th>\n",
       "      <td>COc1ccc2nc(S(=O)Cc3ncc(C)c(OC)c3C)[nH]c2c1</td>\n",
       "      <td>-0.82</td>\n",
       "    </tr>\n",
       "    <tr>\n",
       "      <th>347</th>\n",
       "      <td>CC(C)(C)c1ccc(C(O)CCCN2CCC(C(O)(c3ccccc3)c3ccc...</td>\n",
       "      <td>0.64</td>\n",
       "    </tr>\n",
       "    <tr>\n",
       "      <th>364</th>\n",
       "      <td>CNC1CCC(c2ccc(Cl)c(Cl)c2)c2ccccc21</td>\n",
       "      <td>1.60</td>\n",
       "    </tr>\n",
       "    <tr>\n",
       "      <th>370</th>\n",
       "      <td>CN(C)CCCN1c2ccccc2S(=O)c2ccccc21</td>\n",
       "      <td>-0.48</td>\n",
       "    </tr>\n",
       "    <tr>\n",
       "      <th>375</th>\n",
       "      <td>N/C(=N\\c1ccccc1)Nc1ccccc1</td>\n",
       "      <td>0.00</td>\n",
       "    </tr>\n",
       "    <tr>\n",
       "      <th>399</th>\n",
       "      <td>CCC(=O)N(c1ccccc1)C1(COC)CCN(CCn2nnn(CC)c2=O)CC1</td>\n",
       "      <td>-0.89</td>\n",
       "    </tr>\n",
       "    <tr>\n",
       "      <th>422</th>\n",
       "      <td>O=c1[nH]c2ccc(S(=O)CCN3CCC(Cc4ccc(F)cc4)CC3)cc2o1</td>\n",
       "      <td>-0.52</td>\n",
       "    </tr>\n",
       "    <tr>\n",
       "      <th>428</th>\n",
       "      <td>Brc1cc(Br)c(N=C2NCCN2)c(Br)c1</td>\n",
       "      <td>0.58</td>\n",
       "    </tr>\n",
       "    <tr>\n",
       "      <th>441</th>\n",
       "      <td>Cc1nc(O)c([N+](=O)[O-])c(N2CCc3ccccc3CC2)n1</td>\n",
       "      <td>-0.59</td>\n",
       "    </tr>\n",
       "    <tr>\n",
       "      <th>454</th>\n",
       "      <td>Brc1cccc(Br)c1N=C1NCCN1</td>\n",
       "      <td>0.33</td>\n",
       "    </tr>\n",
       "    <tr>\n",
       "      <th>455</th>\n",
       "      <td>Clc1cc(Br)cc(Cl)c1N=C1NCCN1</td>\n",
       "      <td>0.41</td>\n",
       "    </tr>\n",
       "    <tr>\n",
       "      <th>457</th>\n",
       "      <td>CC(=O)CC(c1ccccc1)c1c(O)c2ccccc2oc1=O</td>\n",
       "      <td>-1.30</td>\n",
       "    </tr>\n",
       "    <tr>\n",
       "      <th>466</th>\n",
       "      <td>CC(C)c1ccc(SCCCC2CCN2C)cc1</td>\n",
       "      <td>1.70</td>\n",
       "    </tr>\n",
       "    <tr>\n",
       "      <th>467</th>\n",
       "      <td>Clc1cc(Cl)c(N=C2NCCN2)c(Cl)c1</td>\n",
       "      <td>0.47</td>\n",
       "    </tr>\n",
       "    <tr>\n",
       "      <th>468</th>\n",
       "      <td>Cc1cc(Br)cc(C)c1N=C1NCCN1</td>\n",
       "      <td>-0.28</td>\n",
       "    </tr>\n",
       "    <tr>\n",
       "      <th>471</th>\n",
       "      <td>CCCCNC(=O)NS(=O)(=O)c1ccc(C)cc1</td>\n",
       "      <td>-1.01</td>\n",
       "    </tr>\n",
       "    <tr>\n",
       "      <th>472</th>\n",
       "      <td>CN(C)CCC(c1ccc(Cl)cc1)c1ccccn1</td>\n",
       "      <td>1.53</td>\n",
       "    </tr>\n",
       "    <tr>\n",
       "      <th>476</th>\n",
       "      <td>Cc1ccccc1N=C1NCCN1</td>\n",
       "      <td>-1.39</td>\n",
       "    </tr>\n",
       "    <tr>\n",
       "      <th>480</th>\n",
       "      <td>Clc1ccc(N=C2NCCN2)c(Cl)c1</td>\n",
       "      <td>0.16</td>\n",
       "    </tr>\n",
       "    <tr>\n",
       "      <th>481</th>\n",
       "      <td>Cc1cc(Cl)ccc1N=C1NCCN1</td>\n",
       "      <td>-0.87</td>\n",
       "    </tr>\n",
       "    <tr>\n",
       "      <th>482</th>\n",
       "      <td>Cc1ccc(N=C2NCCN2)c(Cl)c1</td>\n",
       "      <td>-0.65</td>\n",
       "    </tr>\n",
       "    <tr>\n",
       "      <th>483</th>\n",
       "      <td>Cc1ccc(N=C2NCCN2)c(C)c1</td>\n",
       "      <td>-1.30</td>\n",
       "    </tr>\n",
       "    <tr>\n",
       "      <th>490</th>\n",
       "      <td>Clc1cccc(Cl)c1N=C1NCCN1</td>\n",
       "      <td>0.11</td>\n",
       "    </tr>\n",
       "    <tr>\n",
       "      <th>493</th>\n",
       "      <td>c1ccc(N=C2NCCN2)cc1</td>\n",
       "      <td>-1.89</td>\n",
       "    </tr>\n",
       "    <tr>\n",
       "      <th>494</th>\n",
       "      <td>C=CCc1cccc(/C=N/NC(=O)CN2CCN(Cc3ccccc3)CC2)c1O</td>\n",
       "      <td>-0.17</td>\n",
       "    </tr>\n",
       "    <tr>\n",
       "      <th>495</th>\n",
       "      <td>C=CCc1cccc(/C=N/NC(=O)CN2CCN(Cc3ccc(S(N)(=O)=O...</td>\n",
       "      <td>-1.67</td>\n",
       "    </tr>\n",
       "    <tr>\n",
       "      <th>504</th>\n",
       "      <td>CN(C)CCc1c[nH]c2ccc(Cn3cncn3)cc12</td>\n",
       "      <td>-0.70</td>\n",
       "    </tr>\n",
       "    <tr>\n",
       "      <th>509</th>\n",
       "      <td>CCCc1nc(C)c2c(=O)nc(-c3cc(S(=O)(=O)N4CCN(CC)CC...</td>\n",
       "      <td>-1.40</td>\n",
       "    </tr>\n",
       "    <tr>\n",
       "      <th>510</th>\n",
       "      <td>CCCc1nn(C)c2c(=O)nc(-c3cc(S(=O)(=O)N4CCN(C)CC4...</td>\n",
       "      <td>-1.30</td>\n",
       "    </tr>\n",
       "  </tbody>\n",
       "</table>\n",
       "</div>"
      ],
      "text/plain": [
       "                                                SMILES  Activity\n",
       "20                                         FC(F)(F)CCl      0.12\n",
       "127                               CN1C(=O)CCC1c1cccnc1     -0.38\n",
       "161    Cc1ccc(Cc2c[nH]c(NCCSCc3ccc(CN(C)C)o3)nc2=O)cn1     -1.06\n",
       "213                          NC(N)=Nc1nc(-c2ccccc2)cs1     -0.18\n",
       "217           CN/C(=N/C#N)Nc1cccc(-c2csc(N=C(N)N)n2)c1     -1.54\n",
       "238                 S=C(NC1CCCCC1)N1CCC(c2c[nH]cn2)CC1     -0.16\n",
       "241                  CN/C(=N/C#N)NCCSCc1csc(N=C(N)N)n1     -0.82\n",
       "247                                    CN(C)CCc1ccccn1     -0.06\n",
       "248                                         NCCc1nccs1     -0.42\n",
       "267  COc1cc(C2c3cc4c(cc3C(OC3OC5COC(C)OC5C(O)C3O)C3...     -2.00\n",
       "268     OCCN1CCN(CCCN2c3ccccc3Sc3ccc(C(F)(F)F)cc32)CC1      1.51\n",
       "271       COc1cccnc1CCCCNc1nc(=O)c(Cc2ccc(C)nc2)c[nH]1     -2.00\n",
       "276            CN1CCCCC1CCN1c2ccccc2Sc2ccc(S(C)=O)cc21     -0.36\n",
       "287                            Nc1c2c(nc3ccccc13)CCCC2     -0.13\n",
       "288      Cc1ccc(Cc2c[nH]c(NCCCCc3ncc(Br)cc3C)nc2=O)cn1     -1.88\n",
       "300                       CCN/C(=N/C#N)NCCSCc1ncccc1Br     -2.15\n",
       "301                       FC(F)(F)c1ccc(N2CCNCC2)nc1Cl      1.64\n",
       "310                       CN/C(=N\\C#N)NCCSCc1[nH]cnc1C     -1.42\n",
       "317  CC(=O)N[C@H]1CC[C@H](CCN2CCN(c3cccc(Cl)c3Cl)CC...      1.08\n",
       "318  CCC(=O)N[C@H]1CC[C@H](CCN2CCN(c3cccc(Cl)c3Cl)C...      0.90\n",
       "319  CS(=O)(=O)N[C@H]1CC[C@H](CCN2CCN(c3cccc(Cl)c3C...      1.00\n",
       "327                  CCc1cccc(/N=C(\\C)Nc2cccc(CC)c2)c1      1.20\n",
       "337        O=C(O)COCCN1CCN(C(c2ccccc2)c2ccc(Cl)cc2)CC1     -1.30\n",
       "342         COc1ccc2nc(S(=O)Cc3ncc(C)c(OC)c3C)[nH]c2c1     -0.82\n",
       "347  CC(C)(C)c1ccc(C(O)CCCN2CCC(C(O)(c3ccccc3)c3ccc...      0.64\n",
       "364                 CNC1CCC(c2ccc(Cl)c(Cl)c2)c2ccccc21      1.60\n",
       "370                   CN(C)CCCN1c2ccccc2S(=O)c2ccccc21     -0.48\n",
       "375                          N/C(=N\\c1ccccc1)Nc1ccccc1      0.00\n",
       "399   CCC(=O)N(c1ccccc1)C1(COC)CCN(CCn2nnn(CC)c2=O)CC1     -0.89\n",
       "422  O=c1[nH]c2ccc(S(=O)CCN3CCC(Cc4ccc(F)cc4)CC3)cc2o1     -0.52\n",
       "428                      Brc1cc(Br)c(N=C2NCCN2)c(Br)c1      0.58\n",
       "441        Cc1nc(O)c([N+](=O)[O-])c(N2CCc3ccccc3CC2)n1     -0.59\n",
       "454                            Brc1cccc(Br)c1N=C1NCCN1      0.33\n",
       "455                        Clc1cc(Br)cc(Cl)c1N=C1NCCN1      0.41\n",
       "457              CC(=O)CC(c1ccccc1)c1c(O)c2ccccc2oc1=O     -1.30\n",
       "466                         CC(C)c1ccc(SCCCC2CCN2C)cc1      1.70\n",
       "467                      Clc1cc(Cl)c(N=C2NCCN2)c(Cl)c1      0.47\n",
       "468                          Cc1cc(Br)cc(C)c1N=C1NCCN1     -0.28\n",
       "471                    CCCCNC(=O)NS(=O)(=O)c1ccc(C)cc1     -1.01\n",
       "472                     CN(C)CCC(c1ccc(Cl)cc1)c1ccccn1      1.53\n",
       "476                                 Cc1ccccc1N=C1NCCN1     -1.39\n",
       "480                          Clc1ccc(N=C2NCCN2)c(Cl)c1      0.16\n",
       "481                             Cc1cc(Cl)ccc1N=C1NCCN1     -0.87\n",
       "482                           Cc1ccc(N=C2NCCN2)c(Cl)c1     -0.65\n",
       "483                            Cc1ccc(N=C2NCCN2)c(C)c1     -1.30\n",
       "490                            Clc1cccc(Cl)c1N=C1NCCN1      0.11\n",
       "493                                c1ccc(N=C2NCCN2)cc1     -1.89\n",
       "494     C=CCc1cccc(/C=N/NC(=O)CN2CCN(Cc3ccccc3)CC2)c1O     -0.17\n",
       "495  C=CCc1cccc(/C=N/NC(=O)CN2CCN(Cc3ccc(S(N)(=O)=O...     -1.67\n",
       "504                  CN(C)CCc1c[nH]c2ccc(Cn3cncn3)cc12     -0.70\n",
       "509  CCCc1nc(C)c2c(=O)nc(-c3cc(S(=O)(=O)N4CCN(CC)CC...     -1.40\n",
       "510  CCCc1nn(C)c2c(=O)nc(-c3cc(S(=O)(=O)N4CCN(C)CC4...     -1.30"
      ]
     },
     "execution_count": 354,
     "metadata": {},
     "output_type": "execute_result"
    }
   ],
   "source": [
    "data_2"
   ]
  },
  {
   "cell_type": "code",
   "execution_count": 355,
   "id": "a15f6ffd",
   "metadata": {},
   "outputs": [
    {
     "name": "stdout",
     "output_type": "stream",
     "text": [
      "<class 'pandas.core.frame.DataFrame'>\n",
      "Int64Index: 44 entries, 20 to 510\n",
      "Data columns (total 2 columns):\n",
      " #   Column    Non-Null Count  Dtype  \n",
      "---  ------    --------------  -----  \n",
      " 0   SMILES    44 non-null     object \n",
      " 1   Activity  44 non-null     float64\n",
      "dtypes: float64(1), object(1)\n",
      "memory usage: 1.0+ KB\n"
     ]
    }
   ],
   "source": [
    "data_2 = data_2[(data_2['Activity'] > -2) & (data_2['Activity'] < 1.5)]\n",
    "data_2.info()"
   ]
  },
  {
   "cell_type": "code",
   "execution_count": 356,
   "id": "0d195508",
   "metadata": {},
   "outputs": [
    {
     "name": "stdout",
     "output_type": "stream",
     "text": [
      "<class 'pandas.core.frame.DataFrame'>\n",
      "Int64Index: 44 entries, 20 to 510\n",
      "Data columns (total 2 columns):\n",
      " #   Column    Non-Null Count  Dtype  \n",
      "---  ------    --------------  -----  \n",
      " 0   SMILES    44 non-null     object \n",
      " 1   Activity  44 non-null     float64\n",
      "dtypes: float64(1), object(1)\n",
      "memory usage: 1.0+ KB\n"
     ]
    }
   ],
   "source": [
    "for i, row in data_2.iterrows():\n",
    "    if 'C' not in row.SMILES and 'c' not in row.SMILES:\n",
    "        data_2 = data_2.drop(labels=[i], axis=0)\n",
    "data_2.info()"
   ]
  },
  {
   "cell_type": "code",
   "execution_count": 357,
   "id": "1b35cbe5",
   "metadata": {},
   "outputs": [
    {
     "name": "stdout",
     "output_type": "stream",
     "text": [
      "<class 'pandas.core.frame.DataFrame'>\n",
      "RangeIndex: 1074 entries, 0 to 1073\n",
      "Data columns (total 2 columns):\n",
      " #   Column    Non-Null Count  Dtype  \n",
      "---  ------    --------------  -----  \n",
      " 0   SMILES    1074 non-null   object \n",
      " 1   Activity  1074 non-null   float64\n",
      "dtypes: float64(1), object(1)\n",
      "memory usage: 16.9+ KB\n"
     ]
    }
   ],
   "source": [
    "final_data = pd.concat([data_1, data_2], ignore_index=True)\n",
    "final_data.info()"
   ]
  },
  {
   "cell_type": "code",
   "execution_count": 358,
   "id": "c6532c2f",
   "metadata": {},
   "outputs": [],
   "source": [
    "final_data.to_csv('refined_dataset.csv',index=False)"
   ]
  },
  {
   "cell_type": "markdown",
   "id": "62d81079",
   "metadata": {},
   "source": [
    "### Dataset 2 (https://github.com/znavoyan/vae-embeddings/, article: https://doi.org/10.1186/s13321-022-00648-x)"
   ]
  },
  {
   "cell_type": "code",
   "execution_count": 359,
   "id": "03b2eb79",
   "metadata": {},
   "outputs": [],
   "source": [
    "# data_2 = pd.read_csv('final_logBB_2967.csv')\n",
    "# data_2.head()"
   ]
  },
  {
   "cell_type": "code",
   "execution_count": 360,
   "id": "3730ac45",
   "metadata": {},
   "outputs": [],
   "source": [
    "# data_2.info()"
   ]
  },
  {
   "cell_type": "code",
   "execution_count": null,
   "id": "fc853001",
   "metadata": {},
   "outputs": [],
   "source": []
  },
  {
   "cell_type": "code",
   "execution_count": 361,
   "id": "768e1dab",
   "metadata": {},
   "outputs": [],
   "source": [
    "# data_2 = data_2[['canon_smiles', 'new_logBB']]"
   ]
  },
  {
   "cell_type": "code",
   "execution_count": 362,
   "id": "ed5676c3",
   "metadata": {},
   "outputs": [],
   "source": [
    "# data_2 = data_2.rename(columns={'canon_smiles':'SMILES', 'new_logBB':'Activity'})\n",
    "# data_2.head()"
   ]
  },
  {
   "cell_type": "code",
   "execution_count": 363,
   "id": "2b17bf9e",
   "metadata": {},
   "outputs": [],
   "source": [
    "# data_2['Activity'] = data_2['Activity'].fillna(-1e9)\n",
    "# data_2.info()"
   ]
  },
  {
   "cell_type": "code",
   "execution_count": 364,
   "id": "c5748fea",
   "metadata": {},
   "outputs": [],
   "source": [
    "# data_2 = data_2[data_2['Activity'] > -1e9]\n",
    "# data_2.info()"
   ]
  },
  {
   "cell_type": "code",
   "execution_count": 365,
   "id": "c9d0c1fb",
   "metadata": {},
   "outputs": [],
   "source": [
    "# data_2['Activity'] = data_2['Activity'].apply(lambda x: round(x, 2))"
   ]
  },
  {
   "cell_type": "code",
   "execution_count": 366,
   "id": "7055df25",
   "metadata": {},
   "outputs": [],
   "source": [
    "# data_2['Source'] = [['Tevosyan']] * len(data_2)\n",
    "# data_2.info()"
   ]
  },
  {
   "cell_type": "code",
   "execution_count": 367,
   "id": "32c03d4c",
   "metadata": {},
   "outputs": [],
   "source": [
    "# data_2['SMILES'].nunique()"
   ]
  },
  {
   "cell_type": "code",
   "execution_count": 368,
   "id": "9edc90d9",
   "metadata": {},
   "outputs": [],
   "source": [
    "# data_1_smiles = data_1['SMILES'].tolist()\n",
    "# data_2_smiles = data_2['SMILES'].tolist()"
   ]
  },
  {
   "cell_type": "code",
   "execution_count": 369,
   "id": "bb81a425",
   "metadata": {},
   "outputs": [],
   "source": [
    "# smiles_both = []\n",
    "\n",
    "# for smi in data_2_smiles:\n",
    "#     if smi in data_1_smiles:\n",
    "#         smiles_both.append(smi)\n",
    "# len(smiles_both)"
   ]
  },
  {
   "cell_type": "code",
   "execution_count": 370,
   "id": "86097025",
   "metadata": {},
   "outputs": [],
   "source": [
    "# only_data_2_smiles = list(set(data_2_smiles) - set(smiles_both))\n",
    "# len(only_data_2_smiles)"
   ]
  },
  {
   "cell_type": "code",
   "execution_count": 371,
   "id": "fbd1dbf4",
   "metadata": {},
   "outputs": [],
   "source": [
    "# #усреднение \n",
    "# logBB_diff = []\n",
    "# for i, row in data_1.iterrows():\n",
    "#     if row.SMILES in smiles_both:\n",
    "#         logBB_1 = data_1[data_1['SMILES'] == row.SMILES].iloc[0]['Activity']\n",
    "#         logBB_2 = data_2[data_2['SMILES'] == row.SMILES].iloc[0]['Activity']\n",
    "#         diff = round(abs(logBB_1 - logBB_2), 2)\n",
    "#         logBB_diff.append(diff)\n",
    "#         if diff < 0.1:\n",
    "#             data_1.at[i, 'Activity'] = round(mean([logBB_1, logBB_2]), 2)\n",
    "#             data_1.at[i, 'Source'] = row.Source + data_2.iloc[0]['Source']\n",
    "#         else:\n",
    "#             data_1 = data_1.drop(labels=[i], axis=0)\n",
    "        \n",
    "# data_1.head()"
   ]
  },
  {
   "cell_type": "code",
   "execution_count": 372,
   "id": "1241aa96",
   "metadata": {},
   "outputs": [],
   "source": [
    "# print(len(logBB_diff))"
   ]
  },
  {
   "cell_type": "code",
   "execution_count": 373,
   "id": "19d6f0d6",
   "metadata": {},
   "outputs": [],
   "source": [
    "# count = 0\n",
    "# for diff in logBB_diff:\n",
    "#     if round(diff, 2) >= 0.1:\n",
    "#         count += 1\n",
    "# print(count)"
   ]
  },
  {
   "cell_type": "code",
   "execution_count": 374,
   "id": "cefeb743",
   "metadata": {},
   "outputs": [],
   "source": [
    "#удаление лишнего из нового датасета\n",
    "# for i, row in data_2.iterrows():\n",
    "#     if row.SMILES in smiles_both:\n",
    "#         data_2 = data_2.drop(labels=[i], axis=0)\n",
    "# len(data_2)"
   ]
  },
  {
   "cell_type": "markdown",
   "id": "0cef3d5c",
   "metadata": {},
   "source": [
    "### Merge"
   ]
  },
  {
   "cell_type": "code",
   "execution_count": 375,
   "id": "16dec0d7",
   "metadata": {},
   "outputs": [],
   "source": [
    "# final_data = pd.concat([data_1, data_2], ignore_index=True)\n",
    "# final_data.info()"
   ]
  },
  {
   "cell_type": "code",
   "execution_count": 376,
   "id": "cd673a31",
   "metadata": {},
   "outputs": [],
   "source": [
    "# final_data.describe()"
   ]
  },
  {
   "cell_type": "code",
   "execution_count": 377,
   "id": "03bcb9bf",
   "metadata": {},
   "outputs": [],
   "source": [
    "# final_data['Activity'].hist()"
   ]
  },
  {
   "cell_type": "code",
   "execution_count": 378,
   "id": "f496e7a7",
   "metadata": {},
   "outputs": [],
   "source": [
    "# sns.boxplot(x=final_data['Activity'])"
   ]
  },
  {
   "cell_type": "code",
   "execution_count": 379,
   "id": "9a43f7e7",
   "metadata": {},
   "outputs": [],
   "source": [
    "# lower_bound = round(-0.200615 - 1.720540 * 3, 2)\n",
    "# upper_bound = round(-0.200615 + 1.720540 * 3, 2)\n",
    "# print(lower_bound)\n",
    "# print(upper_bound)"
   ]
  },
  {
   "cell_type": "code",
   "execution_count": 380,
   "id": "ac2afd71",
   "metadata": {},
   "outputs": [],
   "source": [
    "#удаляем выбросы\n",
    "# for i, row in final_data.iterrows():\n",
    "#     if row.Activity < lower_bound or row.Activity > upper_bound:\n",
    "#         final_data = final_data.drop(labels=[i], axis=0)\n",
    "# final_data.info()"
   ]
  },
  {
   "cell_type": "code",
   "execution_count": 381,
   "id": "1f0ef485",
   "metadata": {},
   "outputs": [],
   "source": [
    "# final_data.describe()"
   ]
  },
  {
   "cell_type": "code",
   "execution_count": 382,
   "id": "e684b8d2",
   "metadata": {},
   "outputs": [],
   "source": [
    "# sns.boxplot(x=final_data['Activity'])"
   ]
  },
  {
   "cell_type": "code",
   "execution_count": 383,
   "id": "b23ac8c8",
   "metadata": {},
   "outputs": [],
   "source": [
    "# final_data.to_csv('new_final_dataset.csv',index=False)"
   ]
  }
 ],
 "metadata": {
  "kernelspec": {
   "display_name": "Python 3 (ipykernel)",
   "language": "python",
   "name": "python3"
  },
  "language_info": {
   "codemirror_mode": {
    "name": "ipython",
    "version": 3
   },
   "file_extension": ".py",
   "mimetype": "text/x-python",
   "name": "python",
   "nbconvert_exporter": "python",
   "pygments_lexer": "ipython3",
   "version": "3.10.4"
  }
 },
 "nbformat": 4,
 "nbformat_minor": 5
}
