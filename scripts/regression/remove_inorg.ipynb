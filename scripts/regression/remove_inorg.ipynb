{
 "cells": [
  {
   "cell_type": "code",
   "execution_count": 1,
   "id": "f65186a5-13ca-460a-b270-cbf655a4d0ea",
   "metadata": {},
   "outputs": [],
   "source": [
    "import pandas as pd\n",
    "from rdkit.Chem import MolFromSmiles"
   ]
  },
  {
   "cell_type": "code",
   "execution_count": 2,
   "id": "412b07fe-e6d0-45dc-af50-e5c4fefcbb7b",
   "metadata": {},
   "outputs": [],
   "source": [
    "df = pd.read_csv('final_dataset_logbb_mod.csv')"
   ]
  },
  {
   "cell_type": "code",
   "execution_count": 3,
   "id": "4cc8b480-8aa7-4e9a-a514-6f167df79d9c",
   "metadata": {},
   "outputs": [
    {
     "data": {
      "text/plain": [
       "(1373, 6)"
      ]
     },
     "execution_count": 3,
     "metadata": {},
     "output_type": "execute_result"
    }
   ],
   "source": [
    "df.shape"
   ]
  },
  {
   "cell_type": "code",
   "execution_count": 4,
   "id": "756ebcee-247f-4c05-b63b-ea4ac7f0a454",
   "metadata": {},
   "outputs": [],
   "source": [
    "df_charged = df[df['FORMAL_CHARGE_unch'] != 0]"
   ]
  },
  {
   "cell_type": "code",
   "execution_count": 5,
   "id": "2b9f644e-3481-42a5-845a-1448a826bb0f",
   "metadata": {},
   "outputs": [
    {
     "data": {
      "text/plain": [
       "(15, 6)"
      ]
     },
     "execution_count": 5,
     "metadata": {},
     "output_type": "execute_result"
    }
   ],
   "source": [
    "df_charged.shape"
   ]
  },
  {
   "cell_type": "code",
   "execution_count": 6,
   "id": "ff9240b7-52c1-4f33-bb49-a01014648d54",
   "metadata": {},
   "outputs": [
    {
     "data": {
      "text/html": [
       "<div>\n",
       "<style scoped>\n",
       "    .dataframe tbody tr th:only-of-type {\n",
       "        vertical-align: middle;\n",
       "    }\n",
       "\n",
       "    .dataframe tbody tr th {\n",
       "        vertical-align: top;\n",
       "    }\n",
       "\n",
       "    .dataframe thead th {\n",
       "        text-align: right;\n",
       "    }\n",
       "</style>\n",
       "<table border=\"1\" class=\"dataframe\">\n",
       "  <thead>\n",
       "    <tr style=\"text-align: right;\">\n",
       "      <th></th>\n",
       "      <th>SMILES</th>\n",
       "      <th>Activity</th>\n",
       "      <th>Source</th>\n",
       "      <th>Agglomeration</th>\n",
       "      <th>SMILES_uncharge</th>\n",
       "      <th>FORMAL_CHARGE_unch</th>\n",
       "    </tr>\n",
       "  </thead>\n",
       "  <tbody>\n",
       "    <tr>\n",
       "      <th>56</th>\n",
       "      <td>NCc1c[n+]2ccccc2[nH]1</td>\n",
       "      <td>-1.40</td>\n",
       "      <td>['B3DB']</td>\n",
       "      <td>False</td>\n",
       "      <td>NCC1=C[N+]2=CC=CC=C2N1</td>\n",
       "      <td>1</td>\n",
       "    </tr>\n",
       "    <tr>\n",
       "      <th>105</th>\n",
       "      <td>CCCCCCCCCCCCCCCCOP(=O)(O)OCC[N+](C)(C)C</td>\n",
       "      <td>-1.14</td>\n",
       "      <td>['B3DB']</td>\n",
       "      <td>False</td>\n",
       "      <td>CCCCCCCCCCCCCCCCOP(=O)(O)OCC[N+](C)(C)C</td>\n",
       "      <td>1</td>\n",
       "    </tr>\n",
       "    <tr>\n",
       "      <th>135</th>\n",
       "      <td>COc1cc(N)cn[n+]1-c1ccccc1</td>\n",
       "      <td>-1.00</td>\n",
       "      <td>['B3DB']</td>\n",
       "      <td>False</td>\n",
       "      <td>COC1=CC(N)=CN=[N+]1C1=CC=CC=C1</td>\n",
       "      <td>1</td>\n",
       "    </tr>\n",
       "    <tr>\n",
       "      <th>187</th>\n",
       "      <td>Cc1c(CCOC(=O)c2cc(=O)c3c(Cl)cc(Cl)cc3[nH]2)sc[...</td>\n",
       "      <td>-0.78</td>\n",
       "      <td>['B3DB']</td>\n",
       "      <td>False</td>\n",
       "      <td>CC1=C(CCOC(=O)C2=CC(=O)C3=C(Cl)C=C(Cl)C=C3N2)S...</td>\n",
       "      <td>1</td>\n",
       "    </tr>\n",
       "    <tr>\n",
       "      <th>198</th>\n",
       "      <td>Cc1cn(C2CC(N=[N+]=N)C(CO)O2)c(=O)[nH]c1=O</td>\n",
       "      <td>-0.72</td>\n",
       "      <td>['B3DB']</td>\n",
       "      <td>False</td>\n",
       "      <td>CC1=CN(C2CC(N=[N+]=N)C(CO)O2)C(=O)NC1=O</td>\n",
       "      <td>1</td>\n",
       "    </tr>\n",
       "  </tbody>\n",
       "</table>\n",
       "</div>"
      ],
      "text/plain": [
       "                                                SMILES  Activity    Source  \\\n",
       "56                               NCc1c[n+]2ccccc2[nH]1     -1.40  ['B3DB']   \n",
       "105            CCCCCCCCCCCCCCCCOP(=O)(O)OCC[N+](C)(C)C     -1.14  ['B3DB']   \n",
       "135                          COc1cc(N)cn[n+]1-c1ccccc1     -1.00  ['B3DB']   \n",
       "187  Cc1c(CCOC(=O)c2cc(=O)c3c(Cl)cc(Cl)cc3[nH]2)sc[...     -0.78  ['B3DB']   \n",
       "198          Cc1cn(C2CC(N=[N+]=N)C(CO)O2)c(=O)[nH]c1=O     -0.72  ['B3DB']   \n",
       "\n",
       "     Agglomeration                                    SMILES_uncharge  \\\n",
       "56           False                             NCC1=C[N+]2=CC=CC=C2N1   \n",
       "105          False            CCCCCCCCCCCCCCCCOP(=O)(O)OCC[N+](C)(C)C   \n",
       "135          False                     COC1=CC(N)=CN=[N+]1C1=CC=CC=C1   \n",
       "187          False  CC1=C(CCOC(=O)C2=CC(=O)C3=C(Cl)C=C(Cl)C=C3N2)S...   \n",
       "198          False            CC1=CN(C2CC(N=[N+]=N)C(CO)O2)C(=O)NC1=O   \n",
       "\n",
       "     FORMAL_CHARGE_unch  \n",
       "56                    1  \n",
       "105                   1  \n",
       "135                   1  \n",
       "187                   1  \n",
       "198                   1  "
      ]
     },
     "execution_count": 6,
     "metadata": {},
     "output_type": "execute_result"
    }
   ],
   "source": [
    "df_charged.head(5)"
   ]
  },
  {
   "cell_type": "code",
   "execution_count": 7,
   "id": "f963fda0-5698-4c0a-94d2-18665d165da9",
   "metadata": {},
   "outputs": [],
   "source": [
    "index_sm = df.index.tolist()"
   ]
  },
  {
   "cell_type": "code",
   "execution_count": 8,
   "id": "9b506c58-6667-43e3-9307-8de1b50d8c7c",
   "metadata": {},
   "outputs": [
    {
     "name": "stdout",
     "output_type": "stream",
     "text": [
      "[0, 1, 2, 3, 4]\n"
     ]
    }
   ],
   "source": [
    "print(index_sm[:5])"
   ]
  },
  {
   "cell_type": "code",
   "execution_count": 9,
   "id": "16fa8d71-b118-469c-b834-13f3ff9b01a2",
   "metadata": {},
   "outputs": [
    {
     "data": {
      "text/plain": [
       "array(['CCNC(=NCCSCC1=NC=CC=C1Br)NC#N',\n",
       "       'CN1CC[C@]23C4=C5C=CC(OC6O[C@H](C(=O)O)[C@@H](O)[C@H](O)[C@H]6O)=C4O[C@H]2[C@@H](O)C=C[C@H]3[C@H]1C5',\n",
       "       'CS(=O)(=O)N(CCO)C1=C(Cl)C(Cl)=CC2=C1NC(=O)C(=O)N2', ...,\n",
       "       'CC(=O)OC1C(=O)C2(C)C(O)CC3OCC3(OC(C)=O)C2C(OC(=O)C2=CC=CC=C2)C2(O)CC(OC(=O)C(O)C(NC(=O)C3=CC=C(F)C=C3)C3=CC=CC=C3)C(C)=C1C2(C)C',\n",
       "       'COC1=CC=C(C(C)C)C=C1CNC1CCCNC1C1=CC=CC=C1',\n",
       "       'CN(C)CCOC(C1=CC=CC=C1)C1=CC=CC=C1'], dtype=object)"
      ]
     },
     "execution_count": 9,
     "metadata": {},
     "output_type": "execute_result"
    }
   ],
   "source": [
    "sm = df['SMILES_uncharge'].values\n",
    "sm"
   ]
  },
  {
   "cell_type": "code",
   "execution_count": 10,
   "id": "cdd71a47-29c5-4c4a-97ed-e039ed54a073",
   "metadata": {},
   "outputs": [
    {
     "data": {
      "text/html": [
       "<div>\n",
       "<style scoped>\n",
       "    .dataframe tbody tr th:only-of-type {\n",
       "        vertical-align: middle;\n",
       "    }\n",
       "\n",
       "    .dataframe tbody tr th {\n",
       "        vertical-align: top;\n",
       "    }\n",
       "\n",
       "    .dataframe thead th {\n",
       "        text-align: right;\n",
       "    }\n",
       "</style>\n",
       "<table border=\"1\" class=\"dataframe\">\n",
       "  <thead>\n",
       "    <tr style=\"text-align: right;\">\n",
       "      <th></th>\n",
       "      <th>SMILES</th>\n",
       "      <th>Activity</th>\n",
       "      <th>Source</th>\n",
       "      <th>Agglomeration</th>\n",
       "      <th>SMILES_uncharge</th>\n",
       "      <th>FORMAL_CHARGE_unch</th>\n",
       "    </tr>\n",
       "  </thead>\n",
       "  <tbody>\n",
       "  </tbody>\n",
       "</table>\n",
       "</div>"
      ],
      "text/plain": [
       "Empty DataFrame\n",
       "Columns: [SMILES, Activity, Source, Agglomeration, SMILES_uncharge, FORMAL_CHARGE_unch]\n",
       "Index: []"
      ]
     },
     "execution_count": 10,
     "metadata": {},
     "output_type": "execute_result"
    }
   ],
   "source": [
    "cl = df[df['SMILES_uncharge'] == '[O-][Cl+3]([O-])([O-])O']\n",
    "cl"
   ]
  },
  {
   "cell_type": "code",
   "execution_count": 11,
   "id": "7b36b965-da46-4f69-bd78-b0750ace44de",
   "metadata": {
    "scrolled": true
   },
   "outputs": [
    {
     "name": "stdout",
     "output_type": "stream",
     "text": [
      "smiles [Li]\n",
      "smiles [Kr]\n",
      "smiles O\n",
      "smiles N#N\n",
      "smiles [Ar]\n",
      "smiles [N-]=[N+]=O\n",
      "smiles N#[N+]O\n",
      "smiles NN\n",
      "smiles [Xe]\n",
      "smiles [Ne]\n",
      "smiles FS(F)(F)(F)(F)F\n",
      "smiles N#[N+][O-]\n",
      "smiles [Rn]\n"
     ]
    }
   ],
   "source": [
    "list_inorg_el = ['Al', 'Au', 'Ar,''Ba', 'Be', 'Bi', 'Ca','Cd', 'Co','Cr','Cu','Fe', 'Gd','Ge', 'Hf',\n",
    "                 'Hg', 'In', 'K', 'Kr' 'La', 'Mg', 'Mn', 'Na', 'Ni', 'Pb', 'Pt', 'Sb', 'Sn','Sr','Te',\n",
    "                 'V','Zn', 'Li', 'Xe', 'Rn', 'Ne']\n",
    "index_drop = []\n",
    "uniq_el = set([])\n",
    "for sm_i in range(len(sm)):\n",
    "    mol_sm = MolFromSmiles(sm[sm_i])\n",
    "    list_at = [str(x.GetSymbol()) for x in mol_sm.GetAtoms()]\n",
    "    intersec = list(set(list_at) & set(list_inorg_el))\n",
    "    T_C = 'C' in list_at\n",
    "    if T_C == False:\n",
    "        index_drop.append(index_sm[sm_i])\n",
    "        print('smiles', sm[sm_i])\n",
    "    elif len(intersec) > 0:\n",
    "        index_drop.append(index_sm[sm_i])\n",
    "        print('intersection', intersec)\n",
    "    uniq_el = uniq_el | set(list_at)\n",
    "        "
   ]
  },
  {
   "cell_type": "code",
   "execution_count": 12,
   "id": "966ac243-8207-409f-ac92-3bb41a3ef1cc",
   "metadata": {
    "scrolled": true
   },
   "outputs": [
    {
     "data": {
      "text/plain": [
       "{'Ar',\n",
       " 'B',\n",
       " 'Br',\n",
       " 'C',\n",
       " 'Cl',\n",
       " 'F',\n",
       " 'I',\n",
       " 'Kr',\n",
       " 'Li',\n",
       " 'N',\n",
       " 'Ne',\n",
       " 'O',\n",
       " 'P',\n",
       " 'Rn',\n",
       " 'S',\n",
       " 'Xe'}"
      ]
     },
     "execution_count": 12,
     "metadata": {},
     "output_type": "execute_result"
    }
   ],
   "source": [
    "uniq_el"
   ]
  },
  {
   "cell_type": "code",
   "execution_count": 13,
   "id": "bcaa5cfb-5852-40dd-be10-f3e111aef0e2",
   "metadata": {
    "scrolled": true
   },
   "outputs": [
    {
     "data": {
      "text/plain": [
       "[354, 433, 517, 565, 566, 567, 569, 570, 571, 671, 774, 1118, 1286]"
      ]
     },
     "execution_count": 13,
     "metadata": {},
     "output_type": "execute_result"
    }
   ],
   "source": [
    "index_drop"
   ]
  },
  {
   "cell_type": "code",
   "execution_count": 14,
   "id": "51f44e75-d1bd-4c58-8c5f-89e014f6ffd2",
   "metadata": {},
   "outputs": [
    {
     "data": {
      "text/plain": [
       "13"
      ]
     },
     "execution_count": 14,
     "metadata": {},
     "output_type": "execute_result"
    }
   ],
   "source": [
    "len(index_drop)"
   ]
  },
  {
   "cell_type": "code",
   "execution_count": 15,
   "id": "568da59b-abf6-450c-aa15-8f2c9b87e47e",
   "metadata": {},
   "outputs": [],
   "source": [
    "df.drop(index=index_drop, inplace=True)"
   ]
  },
  {
   "cell_type": "code",
   "execution_count": 16,
   "id": "644134b2-1d11-441f-816d-1370514b7657",
   "metadata": {},
   "outputs": [
    {
     "data": {
      "text/html": [
       "<div>\n",
       "<style scoped>\n",
       "    .dataframe tbody tr th:only-of-type {\n",
       "        vertical-align: middle;\n",
       "    }\n",
       "\n",
       "    .dataframe tbody tr th {\n",
       "        vertical-align: top;\n",
       "    }\n",
       "\n",
       "    .dataframe thead th {\n",
       "        text-align: right;\n",
       "    }\n",
       "</style>\n",
       "<table border=\"1\" class=\"dataframe\">\n",
       "  <thead>\n",
       "    <tr style=\"text-align: right;\">\n",
       "      <th></th>\n",
       "      <th>Activity</th>\n",
       "      <th>FORMAL_CHARGE_unch</th>\n",
       "    </tr>\n",
       "  </thead>\n",
       "  <tbody>\n",
       "    <tr>\n",
       "      <th>count</th>\n",
       "      <td>1360.000000</td>\n",
       "      <td>1360.000000</td>\n",
       "    </tr>\n",
       "    <tr>\n",
       "      <th>mean</th>\n",
       "      <td>-0.079596</td>\n",
       "      <td>0.011029</td>\n",
       "    </tr>\n",
       "    <tr>\n",
       "      <th>std</th>\n",
       "      <td>0.772150</td>\n",
       "      <td>0.111299</td>\n",
       "    </tr>\n",
       "    <tr>\n",
       "      <th>min</th>\n",
       "      <td>-2.690000</td>\n",
       "      <td>0.000000</td>\n",
       "    </tr>\n",
       "    <tr>\n",
       "      <th>25%</th>\n",
       "      <td>-0.590000</td>\n",
       "      <td>0.000000</td>\n",
       "    </tr>\n",
       "    <tr>\n",
       "      <th>50%</th>\n",
       "      <td>-0.020000</td>\n",
       "      <td>0.000000</td>\n",
       "    </tr>\n",
       "    <tr>\n",
       "      <th>75%</th>\n",
       "      <td>0.460000</td>\n",
       "      <td>0.000000</td>\n",
       "    </tr>\n",
       "    <tr>\n",
       "      <th>max</th>\n",
       "      <td>1.700000</td>\n",
       "      <td>2.000000</td>\n",
       "    </tr>\n",
       "  </tbody>\n",
       "</table>\n",
       "</div>"
      ],
      "text/plain": [
       "          Activity  FORMAL_CHARGE_unch\n",
       "count  1360.000000         1360.000000\n",
       "mean     -0.079596            0.011029\n",
       "std       0.772150            0.111299\n",
       "min      -2.690000            0.000000\n",
       "25%      -0.590000            0.000000\n",
       "50%      -0.020000            0.000000\n",
       "75%       0.460000            0.000000\n",
       "max       1.700000            2.000000"
      ]
     },
     "execution_count": 16,
     "metadata": {},
     "output_type": "execute_result"
    }
   ],
   "source": [
    "df.describe()"
   ]
  },
  {
   "cell_type": "code",
   "execution_count": 17,
   "id": "c423b333-4606-465d-a384-d9f1421f6bdc",
   "metadata": {},
   "outputs": [
    {
     "data": {
      "text/html": [
       "<div>\n",
       "<style scoped>\n",
       "    .dataframe tbody tr th:only-of-type {\n",
       "        vertical-align: middle;\n",
       "    }\n",
       "\n",
       "    .dataframe tbody tr th {\n",
       "        vertical-align: top;\n",
       "    }\n",
       "\n",
       "    .dataframe thead th {\n",
       "        text-align: right;\n",
       "    }\n",
       "</style>\n",
       "<table border=\"1\" class=\"dataframe\">\n",
       "  <thead>\n",
       "    <tr style=\"text-align: right;\">\n",
       "      <th></th>\n",
       "      <th>SMILES</th>\n",
       "      <th>Activity</th>\n",
       "      <th>Source</th>\n",
       "      <th>Agglomeration</th>\n",
       "      <th>SMILES_uncharge</th>\n",
       "      <th>FORMAL_CHARGE_unch</th>\n",
       "    </tr>\n",
       "  </thead>\n",
       "  <tbody>\n",
       "  </tbody>\n",
       "</table>\n",
       "</div>"
      ],
      "text/plain": [
       "Empty DataFrame\n",
       "Columns: [SMILES, Activity, Source, Agglomeration, SMILES_uncharge, FORMAL_CHARGE_unch]\n",
       "Index: []"
      ]
     },
     "execution_count": 17,
     "metadata": {},
     "output_type": "execute_result"
    }
   ],
   "source": [
    "df[df['FORMAL_CHARGE_unch'] == 5]"
   ]
  },
  {
   "cell_type": "code",
   "execution_count": 18,
   "id": "24683ff7-8d94-4cfd-8081-13124d13b6c6",
   "metadata": {},
   "outputs": [
    {
     "data": {
      "text/html": [
       "<div>\n",
       "<style scoped>\n",
       "    .dataframe tbody tr th:only-of-type {\n",
       "        vertical-align: middle;\n",
       "    }\n",
       "\n",
       "    .dataframe tbody tr th {\n",
       "        vertical-align: top;\n",
       "    }\n",
       "\n",
       "    .dataframe thead th {\n",
       "        text-align: right;\n",
       "    }\n",
       "</style>\n",
       "<table border=\"1\" class=\"dataframe\">\n",
       "  <thead>\n",
       "    <tr style=\"text-align: right;\">\n",
       "      <th></th>\n",
       "      <th>SMILES</th>\n",
       "      <th>Activity</th>\n",
       "      <th>Source</th>\n",
       "      <th>Agglomeration</th>\n",
       "      <th>SMILES_uncharge</th>\n",
       "      <th>FORMAL_CHARGE_unch</th>\n",
       "    </tr>\n",
       "  </thead>\n",
       "  <tbody>\n",
       "  </tbody>\n",
       "</table>\n",
       "</div>"
      ],
      "text/plain": [
       "Empty DataFrame\n",
       "Columns: [SMILES, Activity, Source, Agglomeration, SMILES_uncharge, FORMAL_CHARGE_unch]\n",
       "Index: []"
      ]
     },
     "execution_count": 18,
     "metadata": {},
     "output_type": "execute_result"
    }
   ],
   "source": [
    "df[df['FORMAL_CHARGE_unch'] == -1]"
   ]
  },
  {
   "cell_type": "code",
   "execution_count": 19,
   "id": "ef53c8bb-cedd-4815-a6c1-9824ba79ec46",
   "metadata": {},
   "outputs": [
    {
     "data": {
      "text/plain": [
       "1360"
      ]
     },
     "execution_count": 19,
     "metadata": {},
     "output_type": "execute_result"
    }
   ],
   "source": [
    "len(df.duplicated(subset=['SMILES_uncharge'], keep=False))"
   ]
  },
  {
   "cell_type": "code",
   "execution_count": 20,
   "id": "50f33a3b-2a4f-4cc2-b1a6-2155bbdb3f82",
   "metadata": {},
   "outputs": [
    {
     "data": {
      "text/html": [
       "<div>\n",
       "<style scoped>\n",
       "    .dataframe tbody tr th:only-of-type {\n",
       "        vertical-align: middle;\n",
       "    }\n",
       "\n",
       "    .dataframe tbody tr th {\n",
       "        vertical-align: top;\n",
       "    }\n",
       "\n",
       "    .dataframe thead th {\n",
       "        text-align: right;\n",
       "    }\n",
       "</style>\n",
       "<table border=\"1\" class=\"dataframe\">\n",
       "  <thead>\n",
       "    <tr style=\"text-align: right;\">\n",
       "      <th></th>\n",
       "      <th>SMILES</th>\n",
       "      <th>Activity</th>\n",
       "      <th>Source</th>\n",
       "      <th>Agglomeration</th>\n",
       "      <th>SMILES_uncharge</th>\n",
       "      <th>FORMAL_CHARGE_unch</th>\n",
       "    </tr>\n",
       "  </thead>\n",
       "  <tbody>\n",
       "    <tr>\n",
       "      <th>1310</th>\n",
       "      <td>Brc1cc(Br)c(NC2=[NH+]CCN2)c(Br)c1</td>\n",
       "      <td>0.58</td>\n",
       "      <td>['Tevosyan']</td>\n",
       "      <td>False</td>\n",
       "      <td>BrC1=CC(Br)=C(NC2=NCCN2)C(Br)=C1</td>\n",
       "      <td>0</td>\n",
       "    </tr>\n",
       "    <tr>\n",
       "      <th>850</th>\n",
       "      <td>Brc1cc(Br)c(NC2=NCCN2)c(Br)c1</td>\n",
       "      <td>0.58</td>\n",
       "      <td>['B3DB']</td>\n",
       "      <td>False</td>\n",
       "      <td>BrC1=CC(Br)=C(NC2=NCCN2)C(Br)=C1</td>\n",
       "      <td>0</td>\n",
       "    </tr>\n",
       "    <tr>\n",
       "      <th>735</th>\n",
       "      <td>Brc1cccc(Br)c1NC1=NCCN1</td>\n",
       "      <td>0.33</td>\n",
       "      <td>['B3DB']</td>\n",
       "      <td>False</td>\n",
       "      <td>BrC1=CC=CC(Br)=C1NC1=NCCN1</td>\n",
       "      <td>0</td>\n",
       "    </tr>\n",
       "    <tr>\n",
       "      <th>1332</th>\n",
       "      <td>Brc1cccc(Br)c1NC1=[NH+]CCN1</td>\n",
       "      <td>0.33</td>\n",
       "      <td>['Tevosyan']</td>\n",
       "      <td>False</td>\n",
       "      <td>BrC1=CC=CC(Br)=C1NC1=NCCN1</td>\n",
       "      <td>0</td>\n",
       "    </tr>\n",
       "    <tr>\n",
       "      <th>1307</th>\n",
       "      <td>c1cc(C[NH+]2CCCCC2)cc(OCCCNc2nc3ccccc3o2)c1</td>\n",
       "      <td>0.22</td>\n",
       "      <td>['Tevosyan']</td>\n",
       "      <td>False</td>\n",
       "      <td>C1=CC(CN2CCCCC2)=CC(OCCCNC2=NC3=CC=CC=C3O2)=C1</td>\n",
       "      <td>0</td>\n",
       "    </tr>\n",
       "    <tr>\n",
       "      <th>...</th>\n",
       "      <td>...</td>\n",
       "      <td>...</td>\n",
       "      <td>...</td>\n",
       "      <td>...</td>\n",
       "      <td>...</td>\n",
       "      <td>...</td>\n",
       "    </tr>\n",
       "    <tr>\n",
       "      <th>526</th>\n",
       "      <td>OCCCOc1cccc(CN2CCCCC2)c1</td>\n",
       "      <td>-0.02</td>\n",
       "      <td>['B3DB']</td>\n",
       "      <td>False</td>\n",
       "      <td>OCCCOC1=CC=CC(CN2CCCCC2)=C1</td>\n",
       "      <td>0</td>\n",
       "    </tr>\n",
       "    <tr>\n",
       "      <th>1233</th>\n",
       "      <td>OCC[NH+]1CC[NH+](CCCN2c3ccccc3Sc3ccc(C(F)(F)F)...</td>\n",
       "      <td>1.52</td>\n",
       "      <td>['Tevosyan']</td>\n",
       "      <td>False</td>\n",
       "      <td>OCCN1CCN(CCCN2C3=CC=CC=C3SC3=CC=C(C(F)(F)F)C=C...</td>\n",
       "      <td>0</td>\n",
       "    </tr>\n",
       "    <tr>\n",
       "      <th>1049</th>\n",
       "      <td>OCCN1CCN(CCCN2c3ccccc3Sc3ccc(C(F)(F)F)cc32)CC1</td>\n",
       "      <td>1.50</td>\n",
       "      <td>['B3DB']</td>\n",
       "      <td>False</td>\n",
       "      <td>OCCN1CCN(CCCN2C3=CC=CC=C3SC3=CC=C(C(F)(F)F)C=C...</td>\n",
       "      <td>0</td>\n",
       "    </tr>\n",
       "    <tr>\n",
       "      <th>1368</th>\n",
       "      <td>OCCOCC[NH+]1CC[NH+](C(c2ccccc2)c2ccc(Cl)cc2)CC1</td>\n",
       "      <td>0.28</td>\n",
       "      <td>['Tevosyan']</td>\n",
       "      <td>False</td>\n",
       "      <td>OCCOCCN1CCN(C(C2=CC=CC=C2)C2=CC=C(Cl)C=C2)CC1</td>\n",
       "      <td>0</td>\n",
       "    </tr>\n",
       "    <tr>\n",
       "      <th>769</th>\n",
       "      <td>OCCOCCN1CCN(C(c2ccccc2)c2ccc(Cl)cc2)CC1</td>\n",
       "      <td>0.40</td>\n",
       "      <td>['B3DB']</td>\n",
       "      <td>False</td>\n",
       "      <td>OCCOCCN1CCN(C(C2=CC=CC=C2)C2=CC=C(Cl)C=C2)CC1</td>\n",
       "      <td>0</td>\n",
       "    </tr>\n",
       "  </tbody>\n",
       "</table>\n",
       "<p>364 rows × 6 columns</p>\n",
       "</div>"
      ],
      "text/plain": [
       "                                                 SMILES  Activity  \\\n",
       "1310                  Brc1cc(Br)c(NC2=[NH+]CCN2)c(Br)c1      0.58   \n",
       "850                       Brc1cc(Br)c(NC2=NCCN2)c(Br)c1      0.58   \n",
       "735                             Brc1cccc(Br)c1NC1=NCCN1      0.33   \n",
       "1332                        Brc1cccc(Br)c1NC1=[NH+]CCN1      0.33   \n",
       "1307        c1cc(C[NH+]2CCCCC2)cc(OCCCNc2nc3ccccc3o2)c1      0.22   \n",
       "...                                                 ...       ...   \n",
       "526                            OCCCOc1cccc(CN2CCCCC2)c1     -0.02   \n",
       "1233  OCC[NH+]1CC[NH+](CCCN2c3ccccc3Sc3ccc(C(F)(F)F)...      1.52   \n",
       "1049     OCCN1CCN(CCCN2c3ccccc3Sc3ccc(C(F)(F)F)cc32)CC1      1.50   \n",
       "1368    OCCOCC[NH+]1CC[NH+](C(c2ccccc2)c2ccc(Cl)cc2)CC1      0.28   \n",
       "769             OCCOCCN1CCN(C(c2ccccc2)c2ccc(Cl)cc2)CC1      0.40   \n",
       "\n",
       "            Source  Agglomeration  \\\n",
       "1310  ['Tevosyan']          False   \n",
       "850       ['B3DB']          False   \n",
       "735       ['B3DB']          False   \n",
       "1332  ['Tevosyan']          False   \n",
       "1307  ['Tevosyan']          False   \n",
       "...            ...            ...   \n",
       "526       ['B3DB']          False   \n",
       "1233  ['Tevosyan']          False   \n",
       "1049      ['B3DB']          False   \n",
       "1368  ['Tevosyan']          False   \n",
       "769       ['B3DB']          False   \n",
       "\n",
       "                                        SMILES_uncharge  FORMAL_CHARGE_unch  \n",
       "1310                   BrC1=CC(Br)=C(NC2=NCCN2)C(Br)=C1                   0  \n",
       "850                    BrC1=CC(Br)=C(NC2=NCCN2)C(Br)=C1                   0  \n",
       "735                          BrC1=CC=CC(Br)=C1NC1=NCCN1                   0  \n",
       "1332                         BrC1=CC=CC(Br)=C1NC1=NCCN1                   0  \n",
       "1307     C1=CC(CN2CCCCC2)=CC(OCCCNC2=NC3=CC=CC=C3O2)=C1                   0  \n",
       "...                                                 ...                 ...  \n",
       "526                         OCCCOC1=CC=CC(CN2CCCCC2)=C1                   0  \n",
       "1233  OCCN1CCN(CCCN2C3=CC=CC=C3SC3=CC=C(C(F)(F)F)C=C...                   0  \n",
       "1049  OCCN1CCN(CCCN2C3=CC=CC=C3SC3=CC=C(C(F)(F)F)C=C...                   0  \n",
       "1368      OCCOCCN1CCN(C(C2=CC=CC=C2)C2=CC=C(Cl)C=C2)CC1                   0  \n",
       "769       OCCOCCN1CCN(C(C2=CC=CC=C2)C2=CC=C(Cl)C=C2)CC1                   0  \n",
       "\n",
       "[364 rows x 6 columns]"
      ]
     },
     "execution_count": 20,
     "metadata": {},
     "output_type": "execute_result"
    }
   ],
   "source": [
    "df_dupl = df[df.duplicated(subset=['SMILES_uncharge'], keep=False)]\n",
    "df_dupl = df_dupl.sort_values(by=['SMILES_uncharge'])\n",
    "df_dupl.to_csv('BBB_dupl.csv', index=False)\n",
    "df_dupl"
   ]
  },
  {
   "cell_type": "code",
   "execution_count": 21,
   "id": "ae41b115-2fd7-478e-94bc-a231c78c1acf",
   "metadata": {},
   "outputs": [],
   "source": [
    "df.drop_duplicates(subset=['SMILES_uncharge'], inplace=True)"
   ]
  },
  {
   "cell_type": "code",
   "execution_count": 22,
   "id": "0b805b67-605d-45e6-bbbe-fed0460f9f2d",
   "metadata": {},
   "outputs": [
    {
     "data": {
      "text/html": [
       "<div>\n",
       "<style scoped>\n",
       "    .dataframe tbody tr th:only-of-type {\n",
       "        vertical-align: middle;\n",
       "    }\n",
       "\n",
       "    .dataframe tbody tr th {\n",
       "        vertical-align: top;\n",
       "    }\n",
       "\n",
       "    .dataframe thead th {\n",
       "        text-align: right;\n",
       "    }\n",
       "</style>\n",
       "<table border=\"1\" class=\"dataframe\">\n",
       "  <thead>\n",
       "    <tr style=\"text-align: right;\">\n",
       "      <th></th>\n",
       "      <th>SMILES</th>\n",
       "      <th>Activity</th>\n",
       "      <th>Source</th>\n",
       "      <th>Agglomeration</th>\n",
       "      <th>SMILES_uncharge</th>\n",
       "      <th>FORMAL_CHARGE_unch</th>\n",
       "    </tr>\n",
       "  </thead>\n",
       "  <tbody>\n",
       "    <tr>\n",
       "      <th>0</th>\n",
       "      <td>CCNC(=NCCSCc1ncccc1Br)NC#N</td>\n",
       "      <td>-2.15</td>\n",
       "      <td>['B3DB']</td>\n",
       "      <td>False</td>\n",
       "      <td>CCNC(=NCCSCC1=NC=CC=C1Br)NC#N</td>\n",
       "      <td>0</td>\n",
       "    </tr>\n",
       "    <tr>\n",
       "      <th>1</th>\n",
       "      <td>CN1CC[C@]23c4c5ccc(OC6O[C@H](C(=O)O)[C@@H](O)[...</td>\n",
       "      <td>-2.15</td>\n",
       "      <td>['B3DB']</td>\n",
       "      <td>False</td>\n",
       "      <td>CN1CC[C@]23C4=C5C=CC(OC6O[C@H](C(=O)O)[C@@H](O...</td>\n",
       "      <td>0</td>\n",
       "    </tr>\n",
       "    <tr>\n",
       "      <th>2</th>\n",
       "      <td>CS(=O)(=O)N(CCO)c1c(Cl)c(Cl)cc2[nH]c(=O)c(=O)[...</td>\n",
       "      <td>-2.15</td>\n",
       "      <td>['B3DB']</td>\n",
       "      <td>False</td>\n",
       "      <td>CS(=O)(=O)N(CCO)C1=C(Cl)C(Cl)=CC2=C1NC(=O)C(=O)N2</td>\n",
       "      <td>0</td>\n",
       "    </tr>\n",
       "    <tr>\n",
       "      <th>3</th>\n",
       "      <td>CN1CC[C@]23c4c5ccc(O)c4O[C@H]2[C@@H](OC2O[C@H]...</td>\n",
       "      <td>-2.09</td>\n",
       "      <td>['B3DB']</td>\n",
       "      <td>False</td>\n",
       "      <td>CN1CC[C@]23C4=C5C=CC(O)=C4O[C@H]2[C@@H](OC2O[C...</td>\n",
       "      <td>0</td>\n",
       "    </tr>\n",
       "    <tr>\n",
       "      <th>4</th>\n",
       "      <td>O=C1CN(/N=C/c2ccc([N+](=O)[O-])o2)C(=O)N1</td>\n",
       "      <td>-2.09</td>\n",
       "      <td>['B3DB']</td>\n",
       "      <td>False</td>\n",
       "      <td>O=C1CN(/N=C/C2=CC=C([N+](=O)[O-])O2)C(=O)N1</td>\n",
       "      <td>0</td>\n",
       "    </tr>\n",
       "    <tr>\n",
       "      <th>...</th>\n",
       "      <td>...</td>\n",
       "      <td>...</td>\n",
       "      <td>...</td>\n",
       "      <td>...</td>\n",
       "      <td>...</td>\n",
       "      <td>...</td>\n",
       "    </tr>\n",
       "    <tr>\n",
       "      <th>1354</th>\n",
       "      <td>Clc1cc(Br)cc(Cl)c1N=C1NCCN1</td>\n",
       "      <td>0.41</td>\n",
       "      <td>['Tevosyan']</td>\n",
       "      <td>False</td>\n",
       "      <td>ClC1=CC(Br)=CC(Cl)=C1N=C1NCCN1</td>\n",
       "      <td>0</td>\n",
       "    </tr>\n",
       "    <tr>\n",
       "      <th>1362</th>\n",
       "      <td>O=C(O)COCCN1CCN(C(c2ccccc2)c2ccc(Cl)cc2)CC1</td>\n",
       "      <td>-1.83</td>\n",
       "      <td>['Tevosyan']</td>\n",
       "      <td>False</td>\n",
       "      <td>O=C(O)COCCN1CCN(C(C2=CC=CC=C2)C2=CC=C(Cl)C=C2)CC1</td>\n",
       "      <td>0</td>\n",
       "    </tr>\n",
       "    <tr>\n",
       "      <th>1364</th>\n",
       "      <td>CC(Nc1cc(-c2c(-c3cccc(C(F)(F)F)c3)nc(C3CCNCC3)...</td>\n",
       "      <td>0.01</td>\n",
       "      <td>['Tevosyan']</td>\n",
       "      <td>False</td>\n",
       "      <td>CC(NC1=CC(C2=C(C3=CC=CC(C(F)(F)F)=C3)N=C(C3CCN...</td>\n",
       "      <td>0</td>\n",
       "    </tr>\n",
       "    <tr>\n",
       "      <th>1365</th>\n",
       "      <td>CC(C)CC1C(=O)N2CCCC2C2OC(NC(=O)C3C=C4c5cccc6[n...</td>\n",
       "      <td>-0.59</td>\n",
       "      <td>['Tevosyan']</td>\n",
       "      <td>False</td>\n",
       "      <td>CC(C)CC1C(=O)N2CCCC2C2OC(NC(=O)C3C=C4C5=CC=CC6...</td>\n",
       "      <td>0</td>\n",
       "    </tr>\n",
       "    <tr>\n",
       "      <th>1370</th>\n",
       "      <td>CC(=O)OC1C(=O)C2(C)C(O)CC3OCC3(OC(C)=O)C2C(OC(...</td>\n",
       "      <td>0.19</td>\n",
       "      <td>['Tevosyan']</td>\n",
       "      <td>False</td>\n",
       "      <td>CC(=O)OC1C(=O)C2(C)C(O)CC3OCC3(OC(C)=O)C2C(OC(...</td>\n",
       "      <td>0</td>\n",
       "    </tr>\n",
       "  </tbody>\n",
       "</table>\n",
       "<p>1178 rows × 6 columns</p>\n",
       "</div>"
      ],
      "text/plain": [
       "                                                 SMILES  Activity  \\\n",
       "0                            CCNC(=NCCSCc1ncccc1Br)NC#N     -2.15   \n",
       "1     CN1CC[C@]23c4c5ccc(OC6O[C@H](C(=O)O)[C@@H](O)[...     -2.15   \n",
       "2     CS(=O)(=O)N(CCO)c1c(Cl)c(Cl)cc2[nH]c(=O)c(=O)[...     -2.15   \n",
       "3     CN1CC[C@]23c4c5ccc(O)c4O[C@H]2[C@@H](OC2O[C@H]...     -2.09   \n",
       "4             O=C1CN(/N=C/c2ccc([N+](=O)[O-])o2)C(=O)N1     -2.09   \n",
       "...                                                 ...       ...   \n",
       "1354                        Clc1cc(Br)cc(Cl)c1N=C1NCCN1      0.41   \n",
       "1362        O=C(O)COCCN1CCN(C(c2ccccc2)c2ccc(Cl)cc2)CC1     -1.83   \n",
       "1364  CC(Nc1cc(-c2c(-c3cccc(C(F)(F)F)c3)nc(C3CCNCC3)...      0.01   \n",
       "1365  CC(C)CC1C(=O)N2CCCC2C2OC(NC(=O)C3C=C4c5cccc6[n...     -0.59   \n",
       "1370  CC(=O)OC1C(=O)C2(C)C(O)CC3OCC3(OC(C)=O)C2C(OC(...      0.19   \n",
       "\n",
       "            Source  Agglomeration  \\\n",
       "0         ['B3DB']          False   \n",
       "1         ['B3DB']          False   \n",
       "2         ['B3DB']          False   \n",
       "3         ['B3DB']          False   \n",
       "4         ['B3DB']          False   \n",
       "...            ...            ...   \n",
       "1354  ['Tevosyan']          False   \n",
       "1362  ['Tevosyan']          False   \n",
       "1364  ['Tevosyan']          False   \n",
       "1365  ['Tevosyan']          False   \n",
       "1370  ['Tevosyan']          False   \n",
       "\n",
       "                                        SMILES_uncharge  FORMAL_CHARGE_unch  \n",
       "0                         CCNC(=NCCSCC1=NC=CC=C1Br)NC#N                   0  \n",
       "1     CN1CC[C@]23C4=C5C=CC(OC6O[C@H](C(=O)O)[C@@H](O...                   0  \n",
       "2     CS(=O)(=O)N(CCO)C1=C(Cl)C(Cl)=CC2=C1NC(=O)C(=O)N2                   0  \n",
       "3     CN1CC[C@]23C4=C5C=CC(O)=C4O[C@H]2[C@@H](OC2O[C...                   0  \n",
       "4           O=C1CN(/N=C/C2=CC=C([N+](=O)[O-])O2)C(=O)N1                   0  \n",
       "...                                                 ...                 ...  \n",
       "1354                     ClC1=CC(Br)=CC(Cl)=C1N=C1NCCN1                   0  \n",
       "1362  O=C(O)COCCN1CCN(C(C2=CC=CC=C2)C2=CC=C(Cl)C=C2)CC1                   0  \n",
       "1364  CC(NC1=CC(C2=C(C3=CC=CC(C(F)(F)F)=C3)N=C(C3CCN...                   0  \n",
       "1365  CC(C)CC1C(=O)N2CCCC2C2OC(NC(=O)C3C=C4C5=CC=CC6...                   0  \n",
       "1370  CC(=O)OC1C(=O)C2(C)C(O)CC3OCC3(OC(C)=O)C2C(OC(...                   0  \n",
       "\n",
       "[1178 rows x 6 columns]"
      ]
     },
     "execution_count": 22,
     "metadata": {},
     "output_type": "execute_result"
    }
   ],
   "source": [
    "df"
   ]
  },
  {
   "cell_type": "code",
   "execution_count": 23,
   "id": "1fd226b5-ceec-4e3c-96c4-eb2bb86cccdd",
   "metadata": {},
   "outputs": [
    {
     "data": {
      "text/plain": [
       "(1178, 6)"
      ]
     },
     "execution_count": 23,
     "metadata": {},
     "output_type": "execute_result"
    }
   ],
   "source": [
    "df.shape"
   ]
  },
  {
   "cell_type": "code",
   "execution_count": 24,
   "id": "e420cc41-9e5b-49aa-b71d-454adfe7da4c",
   "metadata": {},
   "outputs": [],
   "source": [
    "df = df.reset_index(drop=True)"
   ]
  },
  {
   "cell_type": "code",
   "execution_count": 25,
   "id": "4a0bff51-defc-4c9a-991b-7c550020dfef",
   "metadata": {},
   "outputs": [
    {
     "data": {
      "text/plain": [
       "(16, 6)"
      ]
     },
     "execution_count": 25,
     "metadata": {},
     "output_type": "execute_result"
    }
   ],
   "source": [
    "df[df.Activity < -1.99].shape"
   ]
  },
  {
   "cell_type": "code",
   "execution_count": 26,
   "id": "e86d9cf5-150d-47cf-bcd4-2f1baf6ba257",
   "metadata": {},
   "outputs": [
    {
     "data": {
      "text/plain": [
       "(152, 6)"
      ]
     },
     "execution_count": 26,
     "metadata": {},
     "output_type": "execute_result"
    }
   ],
   "source": [
    "df[df.Activity < -1].shape"
   ]
  },
  {
   "cell_type": "code",
   "execution_count": 27,
   "id": "081074a9-0a9f-4c19-8649-929de6005b55",
   "metadata": {},
   "outputs": [
    {
     "data": {
      "text/plain": [
       "(61, 6)"
      ]
     },
     "execution_count": 27,
     "metadata": {},
     "output_type": "execute_result"
    }
   ],
   "source": [
    "df[df.Activity > 1].shape"
   ]
  },
  {
   "cell_type": "code",
   "execution_count": 28,
   "id": "5975951a-3640-4d47-a368-7584dcd38b28",
   "metadata": {},
   "outputs": [
    {
     "data": {
      "text/plain": [
       "(13, 6)"
      ]
     },
     "execution_count": 28,
     "metadata": {},
     "output_type": "execute_result"
    }
   ],
   "source": [
    "df[df.Activity > 1.39].shape"
   ]
  },
  {
   "cell_type": "code",
   "execution_count": 29,
   "id": "7223fb53-7828-45d0-91cc-71378b239144",
   "metadata": {},
   "outputs": [
    {
     "data": {
      "text/plain": [
       "-0.11056876061120538"
      ]
     },
     "execution_count": 29,
     "metadata": {},
     "output_type": "execute_result"
    }
   ],
   "source": [
    "mean_ac = df.Activity.mean()\n",
    "mean_ac"
   ]
  },
  {
   "cell_type": "code",
   "execution_count": 30,
   "id": "a1c39266-f6cd-4a7d-afa7-1e2210dd1909",
   "metadata": {},
   "outputs": [
    {
     "data": {
      "text/plain": [
       "0.7613016616242445"
      ]
     },
     "execution_count": 30,
     "metadata": {},
     "output_type": "execute_result"
    }
   ],
   "source": [
    "std_ac = df.Activity.std()\n",
    "std_ac"
   ]
  },
  {
   "cell_type": "code",
   "execution_count": 31,
   "id": "96d34ad7-901e-4fce-b6d6-339c4debd984",
   "metadata": {},
   "outputs": [
    {
     "data": {
      "text/plain": [
       "-1.6331720838596944"
      ]
     },
     "execution_count": 31,
     "metadata": {},
     "output_type": "execute_result"
    }
   ],
   "source": [
    "mean_ac - 2 * std_ac"
   ]
  },
  {
   "cell_type": "code",
   "execution_count": 32,
   "id": "fc54985c-aa31-4aa0-becf-8ac17edd8950",
   "metadata": {},
   "outputs": [
    {
     "data": {
      "text/plain": [
       "(38, 6)"
      ]
     },
     "execution_count": 32,
     "metadata": {},
     "output_type": "execute_result"
    }
   ],
   "source": [
    "df[df.Activity < -1.633].shape"
   ]
  },
  {
   "cell_type": "code",
   "execution_count": 33,
   "id": "9de2fb7d-72cb-405f-99de-6c58924f0280",
   "metadata": {},
   "outputs": [
    {
     "data": {
      "text/plain": [
       "1.4120345626372837"
      ]
     },
     "execution_count": 33,
     "metadata": {},
     "output_type": "execute_result"
    }
   ],
   "source": [
    "mean_ac + 2 * std_ac"
   ]
  },
  {
   "cell_type": "code",
   "execution_count": 34,
   "id": "cb9ec874-3694-4927-b668-226bf3d8908d",
   "metadata": {},
   "outputs": [
    {
     "data": {
      "text/plain": [
       "(10, 6)"
      ]
     },
     "execution_count": 34,
     "metadata": {},
     "output_type": "execute_result"
    }
   ],
   "source": [
    "df[df.Activity > 1.41].shape"
   ]
  },
  {
   "cell_type": "code",
   "execution_count": 35,
   "id": "48ab8b32-8b40-4d46-a7cf-a0e8ea96adfb",
   "metadata": {},
   "outputs": [
    {
     "data": {
      "text/plain": [
       "(1130, 6)"
      ]
     },
     "execution_count": 35,
     "metadata": {},
     "output_type": "execute_result"
    }
   ],
   "source": [
    "df = df[(df.Activity < (mean_ac + 2 * std_ac)) & (df.Activity > (mean_ac - 2 * std_ac))]\n",
    "df.shape"
   ]
  },
  {
   "cell_type": "code",
   "execution_count": 36,
   "id": "af7a0fb2-ee8d-42f2-b671-a30a0d160300",
   "metadata": {},
   "outputs": [],
   "source": [
    "df.to_csv('final_dataset_logbb_mod_2.csv', index=False)"
   ]
  },
  {
   "cell_type": "code",
   "execution_count": null,
   "id": "a912bdc2-8d5c-4534-816e-bcf078c7cf87",
   "metadata": {},
   "outputs": [],
   "source": []
  }
 ],
 "metadata": {
  "kernelspec": {
   "display_name": "Python 3 (ipykernel)",
   "language": "python",
   "name": "python3"
  },
  "language_info": {
   "codemirror_mode": {
    "name": "ipython",
    "version": 3
   },
   "file_extension": ".py",
   "mimetype": "text/x-python",
   "name": "python",
   "nbconvert_exporter": "python",
   "pygments_lexer": "ipython3",
   "version": "3.8.17"
  }
 },
 "nbformat": 4,
 "nbformat_minor": 5
}
