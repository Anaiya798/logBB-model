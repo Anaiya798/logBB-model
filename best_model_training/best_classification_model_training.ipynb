{
  "cells": [
    {
      "cell_type": "code",
      "execution_count": null,
      "metadata": {
        "id": "07e9ecb9"
      },
      "outputs": [],
      "source": [
        "import numpy as np\n",
        "import pandas as pd\n",
        "import seaborn as sns\n",
        "import matplotlib.pyplot as plt\n",
        "from matplotlib import rcParams\n",
        "\n",
        "from statistics import mean\n",
        "from tqdm import tqdm"
      ],
      "id": "07e9ecb9"
    },
    {
      "cell_type": "code",
      "execution_count": null,
      "metadata": {
        "id": "a1f5638a"
      },
      "outputs": [],
      "source": [
        "from xgboost import XGBRegressor, XGBClassifier\n",
        "import sklearn\n",
        "from sklearn.feature_selection import SelectKBest, mutual_info_regression\n",
        "from sklearn.linear_model import LinearRegression\n",
        "from sklearn.ensemble import RandomForestClassifier, RandomForestRegressor, GradientBoostingRegressor, ExtraTreesRegressor\n",
        "from sklearn.preprocessing import StandardScaler, MinMaxScaler\n",
        "\n",
        "from sklearn.model_selection import train_test_split, KFold, cross_validate, GridSearchCV\n",
        "from sklearn.metrics import make_scorer, r2_score, mean_absolute_error, mean_squared_error, roc_auc_score, f1_score"
      ],
      "id": "a1f5638a"
    },
    {
      "cell_type": "code",
      "execution_count": null,
      "metadata": {
        "colab": {
          "base_uri": "https://localhost:8080/",
          "height": 235
        },
        "id": "O0YjHhip6FMM",
        "outputId": "edc2208d-cd11-4356-e160-77c2e1348bf2"
      },
      "outputs": [
        {
          "output_type": "execute_result",
          "data": {
            "text/plain": [
              "   Activity      MW  #HBA  #HBD    PSA  #ROTB  #ALERTS  MlogP     #MR  \\\n",
              "0         1  252.73   0.0   0.0   0.00    0.0      1.0   2.45   30.57   \n",
              "1         1   98.14   1.0   1.0  20.23    1.0      1.0   0.78   29.75   \n",
              "2         1  144.60   1.0   1.0  20.23    2.0      1.0   1.51   39.07   \n",
              "3         1  175.19   2.0   1.0  52.32    2.0      1.0   1.46   48.68   \n",
              "4         1  360.47   4.0   1.0  35.94    6.0      1.0   2.66  101.66   \n",
              "\n",
              "   #HeavyAtoms  ...  c[X]        E_1        E_2        E_3       E_4  \\\n",
              "0          4.0  ...     0   0.270833   0.000000   0.000000  0.000000   \n",
              "1          7.0  ...     0   0.000000   0.000000   8.895833 -0.888889   \n",
              "2          9.0  ...     0   0.000000   0.000000   9.221389  0.074514   \n",
              "3         13.0  ...     0   4.688287  10.446373   0.000000  5.589179   \n",
              "4         26.0  ...     1  19.006491   4.491719  10.364971  0.572907   \n",
              "\n",
              "        E_5       E_6        E_7       E_8  E_9  \n",
              "0  0.000000  0.000000   0.000000  0.000000  0.0  \n",
              "1  2.246528  0.000000   5.531389  3.465139  0.0  \n",
              "2  2.213333  0.000000   6.856096  1.788441  0.0  \n",
              "3  2.326620  9.010249   3.605958  0.000000  0.0  \n",
              "4  2.614048  6.624001  10.376729  4.365801  0.0  \n",
              "\n",
              "[5 rows x 445 columns]"
            ],
            "text/html": [
              "\n",
              "  <div id=\"df-b9374253-9e51-4712-8c38-92831ebb544c\" class=\"colab-df-container\">\n",
              "    <div>\n",
              "<style scoped>\n",
              "    .dataframe tbody tr th:only-of-type {\n",
              "        vertical-align: middle;\n",
              "    }\n",
              "\n",
              "    .dataframe tbody tr th {\n",
              "        vertical-align: top;\n",
              "    }\n",
              "\n",
              "    .dataframe thead th {\n",
              "        text-align: right;\n",
              "    }\n",
              "</style>\n",
              "<table border=\"1\" class=\"dataframe\">\n",
              "  <thead>\n",
              "    <tr style=\"text-align: right;\">\n",
              "      <th></th>\n",
              "      <th>Activity</th>\n",
              "      <th>MW</th>\n",
              "      <th>#HBA</th>\n",
              "      <th>#HBD</th>\n",
              "      <th>PSA</th>\n",
              "      <th>#ROTB</th>\n",
              "      <th>#ALERTS</th>\n",
              "      <th>MlogP</th>\n",
              "      <th>#MR</th>\n",
              "      <th>#HeavyAtoms</th>\n",
              "      <th>...</th>\n",
              "      <th>c[X]</th>\n",
              "      <th>E_1</th>\n",
              "      <th>E_2</th>\n",
              "      <th>E_3</th>\n",
              "      <th>E_4</th>\n",
              "      <th>E_5</th>\n",
              "      <th>E_6</th>\n",
              "      <th>E_7</th>\n",
              "      <th>E_8</th>\n",
              "      <th>E_9</th>\n",
              "    </tr>\n",
              "  </thead>\n",
              "  <tbody>\n",
              "    <tr>\n",
              "      <th>0</th>\n",
              "      <td>1</td>\n",
              "      <td>252.73</td>\n",
              "      <td>0.0</td>\n",
              "      <td>0.0</td>\n",
              "      <td>0.00</td>\n",
              "      <td>0.0</td>\n",
              "      <td>1.0</td>\n",
              "      <td>2.45</td>\n",
              "      <td>30.57</td>\n",
              "      <td>4.0</td>\n",
              "      <td>...</td>\n",
              "      <td>0</td>\n",
              "      <td>0.270833</td>\n",
              "      <td>0.000000</td>\n",
              "      <td>0.000000</td>\n",
              "      <td>0.000000</td>\n",
              "      <td>0.000000</td>\n",
              "      <td>0.000000</td>\n",
              "      <td>0.000000</td>\n",
              "      <td>0.000000</td>\n",
              "      <td>0.0</td>\n",
              "    </tr>\n",
              "    <tr>\n",
              "      <th>1</th>\n",
              "      <td>1</td>\n",
              "      <td>98.14</td>\n",
              "      <td>1.0</td>\n",
              "      <td>1.0</td>\n",
              "      <td>20.23</td>\n",
              "      <td>1.0</td>\n",
              "      <td>1.0</td>\n",
              "      <td>0.78</td>\n",
              "      <td>29.75</td>\n",
              "      <td>7.0</td>\n",
              "      <td>...</td>\n",
              "      <td>0</td>\n",
              "      <td>0.000000</td>\n",
              "      <td>0.000000</td>\n",
              "      <td>8.895833</td>\n",
              "      <td>-0.888889</td>\n",
              "      <td>2.246528</td>\n",
              "      <td>0.000000</td>\n",
              "      <td>5.531389</td>\n",
              "      <td>3.465139</td>\n",
              "      <td>0.0</td>\n",
              "    </tr>\n",
              "    <tr>\n",
              "      <th>2</th>\n",
              "      <td>1</td>\n",
              "      <td>144.60</td>\n",
              "      <td>1.0</td>\n",
              "      <td>1.0</td>\n",
              "      <td>20.23</td>\n",
              "      <td>2.0</td>\n",
              "      <td>1.0</td>\n",
              "      <td>1.51</td>\n",
              "      <td>39.07</td>\n",
              "      <td>9.0</td>\n",
              "      <td>...</td>\n",
              "      <td>0</td>\n",
              "      <td>0.000000</td>\n",
              "      <td>0.000000</td>\n",
              "      <td>9.221389</td>\n",
              "      <td>0.074514</td>\n",
              "      <td>2.213333</td>\n",
              "      <td>0.000000</td>\n",
              "      <td>6.856096</td>\n",
              "      <td>1.788441</td>\n",
              "      <td>0.0</td>\n",
              "    </tr>\n",
              "    <tr>\n",
              "      <th>3</th>\n",
              "      <td>1</td>\n",
              "      <td>175.19</td>\n",
              "      <td>2.0</td>\n",
              "      <td>1.0</td>\n",
              "      <td>52.32</td>\n",
              "      <td>2.0</td>\n",
              "      <td>1.0</td>\n",
              "      <td>1.46</td>\n",
              "      <td>48.68</td>\n",
              "      <td>13.0</td>\n",
              "      <td>...</td>\n",
              "      <td>0</td>\n",
              "      <td>4.688287</td>\n",
              "      <td>10.446373</td>\n",
              "      <td>0.000000</td>\n",
              "      <td>5.589179</td>\n",
              "      <td>2.326620</td>\n",
              "      <td>9.010249</td>\n",
              "      <td>3.605958</td>\n",
              "      <td>0.000000</td>\n",
              "      <td>0.0</td>\n",
              "    </tr>\n",
              "    <tr>\n",
              "      <th>4</th>\n",
              "      <td>1</td>\n",
              "      <td>360.47</td>\n",
              "      <td>4.0</td>\n",
              "      <td>1.0</td>\n",
              "      <td>35.94</td>\n",
              "      <td>6.0</td>\n",
              "      <td>1.0</td>\n",
              "      <td>2.66</td>\n",
              "      <td>101.66</td>\n",
              "      <td>26.0</td>\n",
              "      <td>...</td>\n",
              "      <td>1</td>\n",
              "      <td>19.006491</td>\n",
              "      <td>4.491719</td>\n",
              "      <td>10.364971</td>\n",
              "      <td>0.572907</td>\n",
              "      <td>2.614048</td>\n",
              "      <td>6.624001</td>\n",
              "      <td>10.376729</td>\n",
              "      <td>4.365801</td>\n",
              "      <td>0.0</td>\n",
              "    </tr>\n",
              "  </tbody>\n",
              "</table>\n",
              "<p>5 rows × 445 columns</p>\n",
              "</div>\n",
              "    <div class=\"colab-df-buttons\">\n",
              "\n",
              "  <div class=\"colab-df-container\">\n",
              "    <button class=\"colab-df-convert\" onclick=\"convertToInteractive('df-b9374253-9e51-4712-8c38-92831ebb544c')\"\n",
              "            title=\"Convert this dataframe to an interactive table.\"\n",
              "            style=\"display:none;\">\n",
              "\n",
              "  <svg xmlns=\"http://www.w3.org/2000/svg\" height=\"24px\" viewBox=\"0 -960 960 960\">\n",
              "    <path d=\"M120-120v-720h720v720H120Zm60-500h600v-160H180v160Zm220 220h160v-160H400v160Zm0 220h160v-160H400v160ZM180-400h160v-160H180v160Zm440 0h160v-160H620v160ZM180-180h160v-160H180v160Zm440 0h160v-160H620v160Z\"/>\n",
              "  </svg>\n",
              "    </button>\n",
              "\n",
              "  <style>\n",
              "    .colab-df-container {\n",
              "      display:flex;\n",
              "      gap: 12px;\n",
              "    }\n",
              "\n",
              "    .colab-df-convert {\n",
              "      background-color: #E8F0FE;\n",
              "      border: none;\n",
              "      border-radius: 50%;\n",
              "      cursor: pointer;\n",
              "      display: none;\n",
              "      fill: #1967D2;\n",
              "      height: 32px;\n",
              "      padding: 0 0 0 0;\n",
              "      width: 32px;\n",
              "    }\n",
              "\n",
              "    .colab-df-convert:hover {\n",
              "      background-color: #E2EBFA;\n",
              "      box-shadow: 0px 1px 2px rgba(60, 64, 67, 0.3), 0px 1px 3px 1px rgba(60, 64, 67, 0.15);\n",
              "      fill: #174EA6;\n",
              "    }\n",
              "\n",
              "    .colab-df-buttons div {\n",
              "      margin-bottom: 4px;\n",
              "    }\n",
              "\n",
              "    [theme=dark] .colab-df-convert {\n",
              "      background-color: #3B4455;\n",
              "      fill: #D2E3FC;\n",
              "    }\n",
              "\n",
              "    [theme=dark] .colab-df-convert:hover {\n",
              "      background-color: #434B5C;\n",
              "      box-shadow: 0px 1px 3px 1px rgba(0, 0, 0, 0.15);\n",
              "      filter: drop-shadow(0px 1px 2px rgba(0, 0, 0, 0.3));\n",
              "      fill: #FFFFFF;\n",
              "    }\n",
              "  </style>\n",
              "\n",
              "    <script>\n",
              "      const buttonEl =\n",
              "        document.querySelector('#df-b9374253-9e51-4712-8c38-92831ebb544c button.colab-df-convert');\n",
              "      buttonEl.style.display =\n",
              "        google.colab.kernel.accessAllowed ? 'block' : 'none';\n",
              "\n",
              "      async function convertToInteractive(key) {\n",
              "        const element = document.querySelector('#df-b9374253-9e51-4712-8c38-92831ebb544c');\n",
              "        const dataTable =\n",
              "          await google.colab.kernel.invokeFunction('convertToInteractive',\n",
              "                                                    [key], {});\n",
              "        if (!dataTable) return;\n",
              "\n",
              "        const docLinkHtml = 'Like what you see? Visit the ' +\n",
              "          '<a target=\"_blank\" href=https://colab.research.google.com/notebooks/data_table.ipynb>data table notebook</a>'\n",
              "          + ' to learn more about interactive tables.';\n",
              "        element.innerHTML = '';\n",
              "        dataTable['output_type'] = 'display_data';\n",
              "        await google.colab.output.renderOutput(dataTable, element);\n",
              "        const docLink = document.createElement('div');\n",
              "        docLink.innerHTML = docLinkHtml;\n",
              "        element.appendChild(docLink);\n",
              "      }\n",
              "    </script>\n",
              "  </div>\n",
              "\n",
              "\n",
              "<div id=\"df-b724eeda-4412-4cb0-a635-adf22b27ab90\">\n",
              "  <button class=\"colab-df-quickchart\" onclick=\"quickchart('df-b724eeda-4412-4cb0-a635-adf22b27ab90')\"\n",
              "            title=\"Suggest charts\"\n",
              "            style=\"display:none;\">\n",
              "\n",
              "<svg xmlns=\"http://www.w3.org/2000/svg\" height=\"24px\"viewBox=\"0 0 24 24\"\n",
              "     width=\"24px\">\n",
              "    <g>\n",
              "        <path d=\"M19 3H5c-1.1 0-2 .9-2 2v14c0 1.1.9 2 2 2h14c1.1 0 2-.9 2-2V5c0-1.1-.9-2-2-2zM9 17H7v-7h2v7zm4 0h-2V7h2v10zm4 0h-2v-4h2v4z\"/>\n",
              "    </g>\n",
              "</svg>\n",
              "  </button>\n",
              "\n",
              "<style>\n",
              "  .colab-df-quickchart {\n",
              "      --bg-color: #E8F0FE;\n",
              "      --fill-color: #1967D2;\n",
              "      --hover-bg-color: #E2EBFA;\n",
              "      --hover-fill-color: #174EA6;\n",
              "      --disabled-fill-color: #AAA;\n",
              "      --disabled-bg-color: #DDD;\n",
              "  }\n",
              "\n",
              "  [theme=dark] .colab-df-quickchart {\n",
              "      --bg-color: #3B4455;\n",
              "      --fill-color: #D2E3FC;\n",
              "      --hover-bg-color: #434B5C;\n",
              "      --hover-fill-color: #FFFFFF;\n",
              "      --disabled-bg-color: #3B4455;\n",
              "      --disabled-fill-color: #666;\n",
              "  }\n",
              "\n",
              "  .colab-df-quickchart {\n",
              "    background-color: var(--bg-color);\n",
              "    border: none;\n",
              "    border-radius: 50%;\n",
              "    cursor: pointer;\n",
              "    display: none;\n",
              "    fill: var(--fill-color);\n",
              "    height: 32px;\n",
              "    padding: 0;\n",
              "    width: 32px;\n",
              "  }\n",
              "\n",
              "  .colab-df-quickchart:hover {\n",
              "    background-color: var(--hover-bg-color);\n",
              "    box-shadow: 0 1px 2px rgba(60, 64, 67, 0.3), 0 1px 3px 1px rgba(60, 64, 67, 0.15);\n",
              "    fill: var(--button-hover-fill-color);\n",
              "  }\n",
              "\n",
              "  .colab-df-quickchart-complete:disabled,\n",
              "  .colab-df-quickchart-complete:disabled:hover {\n",
              "    background-color: var(--disabled-bg-color);\n",
              "    fill: var(--disabled-fill-color);\n",
              "    box-shadow: none;\n",
              "  }\n",
              "\n",
              "  .colab-df-spinner {\n",
              "    border: 2px solid var(--fill-color);\n",
              "    border-color: transparent;\n",
              "    border-bottom-color: var(--fill-color);\n",
              "    animation:\n",
              "      spin 1s steps(1) infinite;\n",
              "  }\n",
              "\n",
              "  @keyframes spin {\n",
              "    0% {\n",
              "      border-color: transparent;\n",
              "      border-bottom-color: var(--fill-color);\n",
              "      border-left-color: var(--fill-color);\n",
              "    }\n",
              "    20% {\n",
              "      border-color: transparent;\n",
              "      border-left-color: var(--fill-color);\n",
              "      border-top-color: var(--fill-color);\n",
              "    }\n",
              "    30% {\n",
              "      border-color: transparent;\n",
              "      border-left-color: var(--fill-color);\n",
              "      border-top-color: var(--fill-color);\n",
              "      border-right-color: var(--fill-color);\n",
              "    }\n",
              "    40% {\n",
              "      border-color: transparent;\n",
              "      border-right-color: var(--fill-color);\n",
              "      border-top-color: var(--fill-color);\n",
              "    }\n",
              "    60% {\n",
              "      border-color: transparent;\n",
              "      border-right-color: var(--fill-color);\n",
              "    }\n",
              "    80% {\n",
              "      border-color: transparent;\n",
              "      border-right-color: var(--fill-color);\n",
              "      border-bottom-color: var(--fill-color);\n",
              "    }\n",
              "    90% {\n",
              "      border-color: transparent;\n",
              "      border-bottom-color: var(--fill-color);\n",
              "    }\n",
              "  }\n",
              "</style>\n",
              "\n",
              "  <script>\n",
              "    async function quickchart(key) {\n",
              "      const quickchartButtonEl =\n",
              "        document.querySelector('#' + key + ' button');\n",
              "      quickchartButtonEl.disabled = true;  // To prevent multiple clicks.\n",
              "      quickchartButtonEl.classList.add('colab-df-spinner');\n",
              "      try {\n",
              "        const charts = await google.colab.kernel.invokeFunction(\n",
              "            'suggestCharts', [key], {});\n",
              "      } catch (error) {\n",
              "        console.error('Error during call to suggestCharts:', error);\n",
              "      }\n",
              "      quickchartButtonEl.classList.remove('colab-df-spinner');\n",
              "      quickchartButtonEl.classList.add('colab-df-quickchart-complete');\n",
              "    }\n",
              "    (() => {\n",
              "      let quickchartButtonEl =\n",
              "        document.querySelector('#df-b724eeda-4412-4cb0-a635-adf22b27ab90 button');\n",
              "      quickchartButtonEl.style.display =\n",
              "        google.colab.kernel.accessAllowed ? 'block' : 'none';\n",
              "    })();\n",
              "  </script>\n",
              "</div>\n",
              "    </div>\n",
              "  </div>\n"
            ],
            "application/vnd.google.colaboratory.intrinsic+json": {
              "type": "dataframe",
              "variable_name": "df"
            }
          },
          "metadata": {},
          "execution_count": 3
        }
      ],
      "source": [
        "df = pd.read_csv('fragments_classification_actual.csv')\n",
        "df.head()"
      ],
      "id": "O0YjHhip6FMM"
    },
    {
      "cell_type": "markdown",
      "metadata": {
        "id": "e7d47768"
      },
      "source": [
        "### Обучение модели"
      ],
      "id": "e7d47768"
    },
    {
      "cell_type": "code",
      "execution_count": null,
      "metadata": {
        "id": "9d42e8d0"
      },
      "outputs": [],
      "source": [
        "split = KFold(n_splits=5, random_state=41, shuffle=True)\n",
        "scores= {\n",
        "         \"F1\":  make_scorer(f1_score),\n",
        "         \"AUC\": make_scorer(roc_auc_score, needs_threshold=True)\n",
        "         }"
      ],
      "id": "9d42e8d0"
    },
    {
      "cell_type": "markdown",
      "metadata": {
        "id": "PZVtXtYdYNmc"
      },
      "source": [],
      "id": "PZVtXtYdYNmc"
    },
    {
      "cell_type": "code",
      "execution_count": null,
      "metadata": {
        "id": "2e2231eb"
      },
      "outputs": [],
      "source": [
        "X = df.iloc[:, 1:].values\n",
        "y = df.iloc[:, 0].values"
      ],
      "id": "2e2231eb"
    },
    {
      "cell_type": "code",
      "execution_count": null,
      "metadata": {
        "id": "afe7a274"
      },
      "outputs": [],
      "source": [
        "X_train, X_val, y_train, y_val = X, X, y, y"
      ],
      "id": "afe7a274"
    },
    {
      "cell_type": "code",
      "execution_count": null,
      "metadata": {
        "id": "28ab77eb"
      },
      "outputs": [],
      "source": [
        "scaler = StandardScaler().fit(X_train)\n",
        "X_train = scaler.transform(X_train)\n",
        "X_val = scaler.transform(X_val)"
      ],
      "id": "28ab77eb"
    },
    {
      "cell_type": "code",
      "execution_count": null,
      "metadata": {
        "id": "c82a410d"
      },
      "outputs": [],
      "source": [
        "MLR_model = RandomForestClassifier(random_state=102, bootstrap=True, class_weight='balanced', criterion='gini', max_depth=None, max_features='log2', n_estimators=200)"
      ],
      "id": "c82a410d"
    },
    {
      "cell_type": "code",
      "execution_count": null,
      "metadata": {
        "id": "48835c22"
      },
      "outputs": [],
      "source": [
        "roc_auc_scorer = sklearn.metrics.make_scorer(roc_auc_score, greater_is_better=True,\n",
        "                             needs_threshold=True)"
      ],
      "id": "48835c22"
    },
    {
      "cell_type": "code",
      "execution_count": null,
      "metadata": {
        "id": "9fd086fb"
      },
      "outputs": [],
      "source": [
        "grid_search = GridSearchCV(\n",
        "    estimator=MLR_model,\n",
        "    param_grid=parameters,\n",
        "    # scoring='neg_mean_squared_error',\n",
        "    scoring=roc_auc_scorer,\n",
        "    verbose=3)\n"
      ],
      "id": "9fd086fb"
    },
    {
      "cell_type": "code",
      "execution_count": null,
      "metadata": {
        "id": "fcd1fc78",
        "colab": {
          "base_uri": "https://localhost:8080/"
        },
        "outputId": "c494d32e-7f72-4d16-e5bc-df1df976c7e0"
      },
      "outputs": [
        {
          "output_type": "stream",
          "name": "stdout",
          "text": [
            "On cross-validation:\n",
            "Mean ROC_AUC score is 0.963 ± 0.006\n",
            "Mean F1 score is 0.911 ± 0.004\n"
          ]
        }
      ],
      "source": [
        "cv_scores = cross_validate(MLR_model, X_train, y_train, scoring=scores, cv=split)\n",
        "print(f\"On cross-validation:\")\n",
        "print(f\"Mean ROC_AUC score is {cv_scores['test_AUC'].mean().round(3)} ± {cv_scores['test_AUC'].std().round(3)}\")\n",
        "print(f\"Mean F1 score is {cv_scores['test_F1'].mean().round(3)} ± {cv_scores['test_F1'].std().round(3)}\")"
      ],
      "id": "fcd1fc78"
    },
    {
      "cell_type": "code",
      "source": [
        "MLR_model.fit(X_train, y_train)\n",
        "y_pred = MLR_model.predict(X_train)\n",
        "\n",
        "print(f\"F1: {f1_score(y_train, y_pred)}\")\n",
        "print(f\"ROC_AUC: {roc_auc_score(y_train, y_pred)}\")"
      ],
      "metadata": {
        "colab": {
          "base_uri": "https://localhost:8080/"
        },
        "id": "CprzeS544fxu",
        "outputId": "246c7168-f354-49e7-8642-c6a156342a38"
      },
      "id": "CprzeS544fxu",
      "execution_count": null,
      "outputs": [
        {
          "output_type": "stream",
          "name": "stdout",
          "text": [
            "F1: 0.9859473023839397\n",
            "ROC_AUC: 0.9851365980616008\n"
          ]
        }
      ]
    },
    {
      "cell_type": "code",
      "source": [
        "MLR_model.fit(X_train, y_train)\n",
        "y_pred = MLR_model.predict(X_val)\n",
        "\n",
        "print(f\"F1: {f1_score(y_val, y_pred)}\")\n",
        "print(f\"ROC_AUC: {roc_auc_score(y_val, y_pred)}\")"
      ],
      "metadata": {
        "colab": {
          "base_uri": "https://localhost:8080/"
        },
        "id": "yFFYwXl14pNd",
        "outputId": "2760e598-838b-4081-c3fa-2601d7bacf4b"
      },
      "id": "yFFYwXl14pNd",
      "execution_count": null,
      "outputs": [
        {
          "output_type": "stream",
          "name": "stdout",
          "text": [
            "F1: 0.9859473023839397\n",
            "ROC_AUC: 0.9851365980616008\n"
          ]
        }
      ]
    },
    {
      "cell_type": "code",
      "source": [
        "X_train.shape"
      ],
      "metadata": {
        "colab": {
          "base_uri": "https://localhost:8080/"
        },
        "id": "oQz5fOlpwaB4",
        "outputId": "7ab5be79-c9a9-449f-dc76-0e5946acb25a"
      },
      "id": "oQz5fOlpwaB4",
      "execution_count": null,
      "outputs": [
        {
          "output_type": "execute_result",
          "data": {
            "text/plain": [
              "(6748, 444)"
            ]
          },
          "metadata": {},
          "execution_count": 25
        }
      ]
    },
    {
      "cell_type": "code",
      "source": [
        "import joblib"
      ],
      "metadata": {
        "id": "rAbu0vBF559e"
      },
      "id": "rAbu0vBF559e",
      "execution_count": null,
      "outputs": []
    },
    {
      "cell_type": "code",
      "source": [
        "joblib.dump(MLR_model, \"best_classification_model.joblib\")"
      ],
      "metadata": {
        "colab": {
          "base_uri": "https://localhost:8080/"
        },
        "id": "c3UbnVhA5cvO",
        "outputId": "edda20e3-15d7-4ac6-c900-648cc23aae01"
      },
      "id": "c3UbnVhA5cvO",
      "execution_count": null,
      "outputs": [
        {
          "output_type": "execute_result",
          "data": {
            "text/plain": [
              "['best_classification_model_new.joblib']"
            ]
          },
          "metadata": {},
          "execution_count": 26
        }
      ]
    }
  ],
  "metadata": {
    "colab": {
      "provenance": []
    },
    "kernelspec": {
      "display_name": "Python 3",
      "name": "python3"
    },
    "language_info": {
      "codemirror_mode": {
        "name": "ipython",
        "version": 3
      },
      "file_extension": ".py",
      "mimetype": "text/x-python",
      "name": "python",
      "nbconvert_exporter": "python",
      "pygments_lexer": "ipython3",
      "version": "3.10.4"
    }
  },
  "nbformat": 4,
  "nbformat_minor": 5
}